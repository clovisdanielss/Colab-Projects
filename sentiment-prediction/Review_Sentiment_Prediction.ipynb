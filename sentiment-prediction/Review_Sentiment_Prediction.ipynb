{
  "nbformat": 4,
  "nbformat_minor": 0,
  "metadata": {
    "colab": {
      "name": "Review Sentiment Prediction.ipynb",
      "provenance": [],
      "authorship_tag": "ABX9TyO1FypQpXpVEAy4a7TISKv+",
      "include_colab_link": true
    },
    "kernelspec": {
      "name": "python3",
      "display_name": "Python 3"
    },
    "language_info": {
      "name": "python"
    }
  },
  "cells": [
    {
      "cell_type": "markdown",
      "metadata": {
        "id": "view-in-github",
        "colab_type": "text"
      },
      "source": [
        "<a href=\"https://colab.research.google.com/github/clovisdanielss/Colab-Projects/blob/main/sentiment-prediction/Review_Sentiment_Prediction.ipynb\" target=\"_parent\"><img src=\"https://colab.research.google.com/assets/colab-badge.svg\" alt=\"Open In Colab\"/></a>"
      ]
    },
    {
      "cell_type": "markdown",
      "source": [
        "### NLP Example\n",
        "\n",
        "In this notebook we'll experiment and train a NLP model to predict sentiment of products reviews."
      ],
      "metadata": {
        "id": "X6pPC_xY-tTv"
      }
    },
    {
      "cell_type": "code",
      "execution_count": 1,
      "metadata": {
        "id": "SPmNtz6o8qPQ"
      },
      "outputs": [],
      "source": [
        "import tensorflow as tf\n",
        "import pandas as pd\n",
        "import numpy as np\n",
        "import seaborn as sns\n",
        "import matplotlib.pyplot as plt\n",
        "import math"
      ]
    },
    {
      "cell_type": "code",
      "source": [
        "from tensorflow.keras.preprocessing.text import Tokenizer\n",
        "from tensorflow.keras.preprocessing.sequence import pad_sequences"
      ],
      "metadata": {
        "id": "rm9UEllD8z-G"
      },
      "execution_count": 4,
      "outputs": []
    },
    {
      "cell_type": "code",
      "source": [
        "dataset = pd.read_csv('https://drive.google.com/uc?id=13ySLC_ue6Umt9RJYSeM2t-V0kCv-4C-P')\n",
        "dataset.head()"
      ],
      "metadata": {
        "colab": {
          "base_uri": "https://localhost:8080/",
          "height": 206
        },
        "id": "yNtPKC-u9Auv",
        "outputId": "344b279a-2750-45eb-ace1-35bb63d2aec4"
      },
      "execution_count": 7,
      "outputs": [
        {
          "output_type": "execute_result",
          "data": {
            "text/plain": [
              "   Unnamed: 0                                               text  sentiment\n",
              "0           0  So there is no way for me to plug it in here i...          0\n",
              "1           1                         Good case Excellent value.          1\n",
              "2           2                             Great for the jawbone.          1\n",
              "3           3  Tied to charger for conversations lasting more...          0\n",
              "4           4                                  The mic is great.          1"
            ],
            "text/html": [
              "\n",
              "  <div id=\"df-39188d36-5811-4fb5-bb83-d6457d447ac9\">\n",
              "    <div class=\"colab-df-container\">\n",
              "      <div>\n",
              "<style scoped>\n",
              "    .dataframe tbody tr th:only-of-type {\n",
              "        vertical-align: middle;\n",
              "    }\n",
              "\n",
              "    .dataframe tbody tr th {\n",
              "        vertical-align: top;\n",
              "    }\n",
              "\n",
              "    .dataframe thead th {\n",
              "        text-align: right;\n",
              "    }\n",
              "</style>\n",
              "<table border=\"1\" class=\"dataframe\">\n",
              "  <thead>\n",
              "    <tr style=\"text-align: right;\">\n",
              "      <th></th>\n",
              "      <th>Unnamed: 0</th>\n",
              "      <th>text</th>\n",
              "      <th>sentiment</th>\n",
              "    </tr>\n",
              "  </thead>\n",
              "  <tbody>\n",
              "    <tr>\n",
              "      <th>0</th>\n",
              "      <td>0</td>\n",
              "      <td>So there is no way for me to plug it in here i...</td>\n",
              "      <td>0</td>\n",
              "    </tr>\n",
              "    <tr>\n",
              "      <th>1</th>\n",
              "      <td>1</td>\n",
              "      <td>Good case Excellent value.</td>\n",
              "      <td>1</td>\n",
              "    </tr>\n",
              "    <tr>\n",
              "      <th>2</th>\n",
              "      <td>2</td>\n",
              "      <td>Great for the jawbone.</td>\n",
              "      <td>1</td>\n",
              "    </tr>\n",
              "    <tr>\n",
              "      <th>3</th>\n",
              "      <td>3</td>\n",
              "      <td>Tied to charger for conversations lasting more...</td>\n",
              "      <td>0</td>\n",
              "    </tr>\n",
              "    <tr>\n",
              "      <th>4</th>\n",
              "      <td>4</td>\n",
              "      <td>The mic is great.</td>\n",
              "      <td>1</td>\n",
              "    </tr>\n",
              "  </tbody>\n",
              "</table>\n",
              "</div>\n",
              "      <button class=\"colab-df-convert\" onclick=\"convertToInteractive('df-39188d36-5811-4fb5-bb83-d6457d447ac9')\"\n",
              "              title=\"Convert this dataframe to an interactive table.\"\n",
              "              style=\"display:none;\">\n",
              "        \n",
              "  <svg xmlns=\"http://www.w3.org/2000/svg\" height=\"24px\"viewBox=\"0 0 24 24\"\n",
              "       width=\"24px\">\n",
              "    <path d=\"M0 0h24v24H0V0z\" fill=\"none\"/>\n",
              "    <path d=\"M18.56 5.44l.94 2.06.94-2.06 2.06-.94-2.06-.94-.94-2.06-.94 2.06-2.06.94zm-11 1L8.5 8.5l.94-2.06 2.06-.94-2.06-.94L8.5 2.5l-.94 2.06-2.06.94zm10 10l.94 2.06.94-2.06 2.06-.94-2.06-.94-.94-2.06-.94 2.06-2.06.94z\"/><path d=\"M17.41 7.96l-1.37-1.37c-.4-.4-.92-.59-1.43-.59-.52 0-1.04.2-1.43.59L10.3 9.45l-7.72 7.72c-.78.78-.78 2.05 0 2.83L4 21.41c.39.39.9.59 1.41.59.51 0 1.02-.2 1.41-.59l7.78-7.78 2.81-2.81c.8-.78.8-2.07 0-2.86zM5.41 20L4 18.59l7.72-7.72 1.47 1.35L5.41 20z\"/>\n",
              "  </svg>\n",
              "      </button>\n",
              "      \n",
              "  <style>\n",
              "    .colab-df-container {\n",
              "      display:flex;\n",
              "      flex-wrap:wrap;\n",
              "      gap: 12px;\n",
              "    }\n",
              "\n",
              "    .colab-df-convert {\n",
              "      background-color: #E8F0FE;\n",
              "      border: none;\n",
              "      border-radius: 50%;\n",
              "      cursor: pointer;\n",
              "      display: none;\n",
              "      fill: #1967D2;\n",
              "      height: 32px;\n",
              "      padding: 0 0 0 0;\n",
              "      width: 32px;\n",
              "    }\n",
              "\n",
              "    .colab-df-convert:hover {\n",
              "      background-color: #E2EBFA;\n",
              "      box-shadow: 0px 1px 2px rgba(60, 64, 67, 0.3), 0px 1px 3px 1px rgba(60, 64, 67, 0.15);\n",
              "      fill: #174EA6;\n",
              "    }\n",
              "\n",
              "    [theme=dark] .colab-df-convert {\n",
              "      background-color: #3B4455;\n",
              "      fill: #D2E3FC;\n",
              "    }\n",
              "\n",
              "    [theme=dark] .colab-df-convert:hover {\n",
              "      background-color: #434B5C;\n",
              "      box-shadow: 0px 1px 3px 1px rgba(0, 0, 0, 0.15);\n",
              "      filter: drop-shadow(0px 1px 2px rgba(0, 0, 0, 0.3));\n",
              "      fill: #FFFFFF;\n",
              "    }\n",
              "  </style>\n",
              "\n",
              "      <script>\n",
              "        const buttonEl =\n",
              "          document.querySelector('#df-39188d36-5811-4fb5-bb83-d6457d447ac9 button.colab-df-convert');\n",
              "        buttonEl.style.display =\n",
              "          google.colab.kernel.accessAllowed ? 'block' : 'none';\n",
              "\n",
              "        async function convertToInteractive(key) {\n",
              "          const element = document.querySelector('#df-39188d36-5811-4fb5-bb83-d6457d447ac9');\n",
              "          const dataTable =\n",
              "            await google.colab.kernel.invokeFunction('convertToInteractive',\n",
              "                                                     [key], {});\n",
              "          if (!dataTable) return;\n",
              "\n",
              "          const docLinkHtml = 'Like what you see? Visit the ' +\n",
              "            '<a target=\"_blank\" href=https://colab.research.google.com/notebooks/data_table.ipynb>data table notebook</a>'\n",
              "            + ' to learn more about interactive tables.';\n",
              "          element.innerHTML = '';\n",
              "          dataTable['output_type'] = 'display_data';\n",
              "          await google.colab.output.renderOutput(dataTable, element);\n",
              "          const docLink = document.createElement('div');\n",
              "          docLink.innerHTML = docLinkHtml;\n",
              "          element.appendChild(docLink);\n",
              "        }\n",
              "      </script>\n",
              "    </div>\n",
              "  </div>\n",
              "  "
            ]
          },
          "metadata": {},
          "execution_count": 7
        }
      ]
    },
    {
      "cell_type": "code",
      "source": [
        "dataset.text"
      ],
      "metadata": {
        "colab": {
          "base_uri": "https://localhost:8080/"
        },
        "id": "mg6cr6vy9rJR",
        "outputId": "4b67dc86-190f-4380-c9e2-530ad309325e"
      },
      "execution_count": 8,
      "outputs": [
        {
          "output_type": "execute_result",
          "data": {
            "text/plain": [
              "0       So there is no way for me to plug it in here i...\n",
              "1                              Good case Excellent value.\n",
              "2                                  Great for the jawbone.\n",
              "3       Tied to charger for conversations lasting more...\n",
              "4                                       The mic is great.\n",
              "                              ...                        \n",
              "1987    I think food should have flavor and texture an...\n",
              "1988                             Appetite instantly gone.\n",
              "1989    Overall I was not impressed and would not go b...\n",
              "1990    The whole experience was underwhelming and I t...\n",
              "1991    Then as if I hadn't wasted enough of my life t...\n",
              "Name: text, Length: 1992, dtype: object"
            ]
          },
          "metadata": {},
          "execution_count": 8
        }
      ]
    },
    {
      "cell_type": "code",
      "source": [
        "tokenizer = Tokenizer()\n",
        "tokenizer.fit_on_texts(dataset.text)\n",
        "len(tokenizer.word_index)"
      ],
      "metadata": {
        "colab": {
          "base_uri": "https://localhost:8080/"
        },
        "id": "NhljyjWY9YOy",
        "outputId": "50dac7bb-2d13-4c9b-88ef-ded47a1b65e2"
      },
      "execution_count": 12,
      "outputs": [
        {
          "output_type": "execute_result",
          "data": {
            "text/plain": [
              "3260"
            ]
          },
          "metadata": {},
          "execution_count": 12
        }
      ]
    },
    {
      "cell_type": "code",
      "source": [
        "sequences = tokenizer.texts_to_sequences(dataset.text)\n",
        "padded = pad_sequences(sequences)\n",
        "padded"
      ],
      "metadata": {
        "colab": {
          "base_uri": "https://localhost:8080/"
        },
        "id": "SrWAPJX294mD",
        "outputId": "1d178353-58b9-4070-98d5-039b3f49e06a"
      },
      "execution_count": 14,
      "outputs": [
        {
          "output_type": "execute_result",
          "data": {
            "text/plain": [
              "array([[   0,    0,    0, ...,  112,    4, 1428],\n",
              "       [   0,    0,    0, ...,  109,   86,  396],\n",
              "       [   0,    0,    0, ...,   12,    1,  731],\n",
              "       ...,\n",
              "       [   0,    0,    0, ...,   11,   59,   39],\n",
              "       [   0,    0,    0, ...,  245,  242,   38],\n",
              "       [   0,    0,    0, ...,  604,    1,  374]], dtype=int32)"
            ]
          },
          "metadata": {},
          "execution_count": 14
        }
      ]
    },
    {
      "cell_type": "code",
      "source": [
        "tf.random.set_seed(42)\n",
        "batch_size = 32\n",
        "train = tf.data.Dataset.from_tensor_slices((padded, dataset.sentiment.to_numpy())).batch(batch_size)"
      ],
      "metadata": {
        "id": "kksQYAkqAoGO"
      },
      "execution_count": 19,
      "outputs": []
    },
    {
      "cell_type": "code",
      "source": [
        "len(list(train)),len(list(train))*batch_size,dataset.text.to_numpy().shape"
      ],
      "metadata": {
        "colab": {
          "base_uri": "https://localhost:8080/"
        },
        "id": "-ATSbc4DCSe1",
        "outputId": "cfce9919-75cf-4b82-fd6c-df50ac8b0e2c"
      },
      "execution_count": 25,
      "outputs": [
        {
          "output_type": "execute_result",
          "data": {
            "text/plain": [
              "(63, 2016, (1992,))"
            ]
          },
          "metadata": {},
          "execution_count": 25
        }
      ]
    },
    {
      "cell_type": "markdown",
      "source": [
        "Let's check how a simple nlp model behaves without any data preparation. \n",
        "\n",
        "#### Our first model"
      ],
      "metadata": {
        "id": "EnFBuutY_LFC"
      }
    },
    {
      "cell_type": "code",
      "source": [
        "model = tf.keras.models.Sequential([\n",
        "        tf.keras.layers.Embedding(len(tokenizer.word_index)+1,64,input_length=padded.shape[1]),\n",
        "        tf.keras.layers.SimpleRNN(64),\n",
        "        tf.keras.layers.Dense(1, activation=\"sigmoid\")\n",
        "])\n",
        "\n",
        "model.compile(optimizer=\"adam\", loss=\"binary_crossentropy\", metrics=[\"accuracy\"])\n",
        "stop = tf.keras.callbacks.EarlyStopping(patience = 5, monitor=\"loss\")\n",
        "\n",
        "model.fit(train, epochs=10, callbacks=[stop])"
      ],
      "metadata": {
        "colab": {
          "base_uri": "https://localhost:8080/"
        },
        "id": "3Y8D8FXa-TaW",
        "outputId": "902976a9-23dd-4344-a0a1-9a60ac7110dc"
      },
      "execution_count": 43,
      "outputs": [
        {
          "output_type": "stream",
          "name": "stdout",
          "text": [
            "Epoch 1/10\n",
            "63/63 [==============================] - 5s 55ms/step - loss: 0.6872 - accuracy: 0.5447\n",
            "Epoch 2/10\n",
            "63/63 [==============================] - 2s 38ms/step - loss: 0.5538 - accuracy: 0.7600\n",
            "Epoch 3/10\n",
            "63/63 [==============================] - 2s 38ms/step - loss: 0.4265 - accuracy: 0.8318\n",
            "Epoch 4/10\n",
            "63/63 [==============================] - 2s 38ms/step - loss: 0.1616 - accuracy: 0.9769\n",
            "Epoch 5/10\n",
            "63/63 [==============================] - 2s 38ms/step - loss: 0.0635 - accuracy: 0.9935\n",
            "Epoch 6/10\n",
            "63/63 [==============================] - 2s 39ms/step - loss: 0.0354 - accuracy: 0.9980\n",
            "Epoch 7/10\n",
            "63/63 [==============================] - 2s 38ms/step - loss: 0.0190 - accuracy: 0.9990\n",
            "Epoch 8/10\n",
            "63/63 [==============================] - 2s 38ms/step - loss: 0.0125 - accuracy: 1.0000\n",
            "Epoch 9/10\n",
            "63/63 [==============================] - 2s 38ms/step - loss: 0.0085 - accuracy: 1.0000\n",
            "Epoch 10/10\n",
            "63/63 [==============================] - 2s 39ms/step - loss: 0.2766 - accuracy: 0.8810\n"
          ]
        },
        {
          "output_type": "execute_result",
          "data": {
            "text/plain": [
              "<keras.callbacks.History at 0x7efbe49093d0>"
            ]
          },
          "metadata": {},
          "execution_count": 43
        }
      ]
    },
    {
      "cell_type": "code",
      "source": [
        "def predict(text):\n",
        "  seq = tokenizer.texts_to_sequences([text])\n",
        "  pad = pad_sequences(seq, padded.shape[1])\n",
        "  pred = model.predict(pad)\n",
        "  return pred\n",
        "\n",
        "predict(\"I did NOT like your product\")"
      ],
      "metadata": {
        "colab": {
          "base_uri": "https://localhost:8080/"
        },
        "id": "nC2_BoOVCFI-",
        "outputId": "d8366492-c65a-4b5e-e6f1-cda67d90ce4d"
      },
      "execution_count": 50,
      "outputs": [
        {
          "output_type": "execute_result",
          "data": {
            "text/plain": [
              "array([[0.24529558]], dtype=float32)"
            ]
          },
          "metadata": {},
          "execution_count": 50
        }
      ]
    },
    {
      "cell_type": "markdown",
      "source": [
        "Our first model seems to be fine. But It's most like overfitting. We will now split our data to check it."
      ],
      "metadata": {
        "id": "faBq8q0iDbCl"
      }
    },
    {
      "cell_type": "code",
      "source": [
        "tf.random.set_seed(42)\n",
        "batch_size = 32\n",
        "data_size = dataset.text.to_numpy().shape[0]\n",
        "test_size = math.ceil(data_size/5)\n",
        "train_size = data_size - test_size\n",
        "data = tf.data.Dataset.from_tensor_slices((padded, dataset.sentiment.to_numpy())).shuffle(1000)\n",
        "train = data.take(train_size).batch(batch_size)\n",
        "test = data.skip(train_size).batch(batch_size)\n",
        "\n",
        "len(list(train)), len(list(test))"
      ],
      "metadata": {
        "colab": {
          "base_uri": "https://localhost:8080/"
        },
        "id": "pmEFr7XtGUzy",
        "outputId": "17e41e0d-ce0d-4f2a-996e-b18b9e39b8c8"
      },
      "execution_count": 53,
      "outputs": [
        {
          "output_type": "execute_result",
          "data": {
            "text/plain": [
              "(50, 13)"
            ]
          },
          "metadata": {},
          "execution_count": 53
        }
      ]
    },
    {
      "cell_type": "code",
      "source": [
        "model = tf.keras.models.Sequential([\n",
        "        tf.keras.layers.Embedding(len(tokenizer.word_index)+1,64,input_length=padded.shape[1]),\n",
        "        tf.keras.layers.SimpleRNN(64),\n",
        "        tf.keras.layers.Dense(1, activation=\"sigmoid\")\n",
        "])\n",
        "\n",
        "model.compile(optimizer=\"adam\", loss=\"binary_crossentropy\", metrics=[\"accuracy\"])\n",
        "stop = tf.keras.callbacks.EarlyStopping(patience = 5)\n",
        "best = tf.keras.callbacks.ModelCheckpoint(\"best.h5\", save_only_best=True)\n",
        "\n",
        "log = model.fit(train,validation_data=test, epochs=10, callbacks=[stop, best])"
      ],
      "metadata": {
        "colab": {
          "base_uri": "https://localhost:8080/"
        },
        "id": "ad0fj-EtJQcl",
        "outputId": "ad719dc6-7e9e-4f10-b7da-24d7b4dcd0ac"
      },
      "execution_count": 56,
      "outputs": [
        {
          "output_type": "stream",
          "name": "stdout",
          "text": [
            "Epoch 1/10\n",
            "50/50 [==============================] - 6s 85ms/step - loss: 0.6897 - accuracy: 0.5223 - val_loss: 0.6243 - val_accuracy: 0.7744\n",
            "Epoch 2/10\n",
            "50/50 [==============================] - 4s 82ms/step - loss: 0.5669 - accuracy: 0.7615 - val_loss: 0.4151 - val_accuracy: 0.8346\n",
            "Epoch 3/10\n",
            "50/50 [==============================] - 4s 78ms/step - loss: 0.3198 - accuracy: 0.8977 - val_loss: 0.2044 - val_accuracy: 0.9574\n",
            "Epoch 4/10\n",
            "50/50 [==============================] - 4s 80ms/step - loss: 0.1553 - accuracy: 0.9648 - val_loss: 0.1198 - val_accuracy: 0.9749\n",
            "Epoch 5/10\n",
            "50/50 [==============================] - 4s 73ms/step - loss: 0.1034 - accuracy: 0.9774 - val_loss: 0.0568 - val_accuracy: 0.9925\n",
            "Epoch 6/10\n",
            "50/50 [==============================] - 2s 42ms/step - loss: 0.0443 - accuracy: 0.9937 - val_loss: 0.0371 - val_accuracy: 0.9925\n",
            "Epoch 7/10\n",
            "50/50 [==============================] - 2s 43ms/step - loss: 0.0307 - accuracy: 0.9918 - val_loss: 0.0275 - val_accuracy: 0.9950\n",
            "Epoch 8/10\n",
            "50/50 [==============================] - 2s 42ms/step - loss: 0.0190 - accuracy: 1.0000 - val_loss: 0.0154 - val_accuracy: 0.9975\n",
            "Epoch 9/10\n",
            "50/50 [==============================] - 2s 43ms/step - loss: 0.0138 - accuracy: 0.9981 - val_loss: 0.0096 - val_accuracy: 1.0000\n",
            "Epoch 10/10\n",
            "50/50 [==============================] - 2s 43ms/step - loss: 0.0086 - accuracy: 1.0000 - val_loss: 0.0059 - val_accuracy: 1.0000\n"
          ]
        }
      ]
    },
    {
      "cell_type": "code",
      "source": [
        "predict(\"Wow, this is amazing\")"
      ],
      "metadata": {
        "colab": {
          "base_uri": "https://localhost:8080/"
        },
        "id": "uIUuMcJHJjjr",
        "outputId": "bfec0765-905a-4946-dcbe-5be5a5631937"
      },
      "execution_count": 55,
      "outputs": [
        {
          "output_type": "execute_result",
          "data": {
            "text/plain": [
              "array([[0.9976537]], dtype=float32)"
            ]
          },
          "metadata": {},
          "execution_count": 55
        }
      ]
    },
    {
      "cell_type": "code",
      "source": [
        "def plot_training():\n",
        "  epochs = len(log.history[\"loss\"])\n",
        "  plt.figure(figsize=(10,6))\n",
        "  plt.subplot(1,2,1)\n",
        "  plt.plot(range(epochs), log.history[\"loss\"])\n",
        "  plt.plot(range(epochs), log.history[\"val_loss\"])\n",
        "  plt.subplot(1,2,2)\n",
        "  plt.plot(range(epochs), log.history[\"accuracy\"])\n",
        "  plt.plot(range(epochs), log.history[\"val_accuracy\"])\n",
        "\n",
        "plot_training()"
      ],
      "metadata": {
        "colab": {
          "base_uri": "https://localhost:8080/",
          "height": 374
        },
        "id": "jaTtkqfmJveP",
        "outputId": "a36ed7b1-7064-437a-9550-c1361daba218"
      },
      "execution_count": 57,
      "outputs": [
        {
          "output_type": "display_data",
          "data": {
            "text/plain": [
              "<Figure size 720x432 with 2 Axes>"
            ],
            "image/png": "[encoded data removed]"
          },
          "metadata": {
            "needs_background": "light"
          }
        }
      ]
    },
    {
      "cell_type": "markdown",
      "source": [
        "Ok, It's not overfitting. But there are two things to say. \n",
        "\n",
        "- The dataset is too small. We just have 2000 phrases. This is way to little. \n",
        "- We know all the words in the test set. This will never happen.\n",
        "\n",
        "So if we want to make a more real experimentation, let's try limit our word_index"
      ],
      "metadata": {
        "id": "HEloa7vLKxrJ"
      }
    },
    {
      "cell_type": "code",
      "source": [
        "tokenizer = Tokenizer(num_words=2000)\n",
        "tokenizer.fit_on_texts(dataset.text)\n",
        "sequences = tokenizer.texts_to_sequences(dataset.text)\n",
        "padded = pad_sequences(sequences)\n",
        "padded"
      ],
      "metadata": {
        "colab": {
          "base_uri": "https://localhost:8080/"
        },
        "id": "moQWUfeFLtXD",
        "outputId": "5337ab6e-57d5-4ab5-be96-a9e6f4525e91"
      },
      "execution_count": 58,
      "outputs": [
        {
          "output_type": "execute_result",
          "data": {
            "text/plain": [
              "array([[   0,    0,    0, ...,  112,    4, 1428],\n",
              "       [   0,    0,    0, ...,  109,   86,  396],\n",
              "       [   0,    0,    0, ...,   12,    1,  731],\n",
              "       ...,\n",
              "       [   0,    0,    0, ...,   11,   59,   39],\n",
              "       [   0,    0,    0, ...,  245,  242,   38],\n",
              "       [   0,    0,    0, ...,  604,    1,  374]], dtype=int32)"
            ]
          },
          "metadata": {},
          "execution_count": 58
        }
      ]
    },
    {
      "cell_type": "markdown",
      "source": [
        "Now, we only know $\\frac{2}{3}$ of the words in our dataset"
      ],
      "metadata": {
        "id": "gEpI7c4CL_DV"
      }
    },
    {
      "cell_type": "code",
      "source": [
        "tf.random.set_seed(42)\n",
        "batch_size = 32\n",
        "data_size = dataset.text.to_numpy().shape[0]\n",
        "test_size = math.ceil(data_size/5)\n",
        "train_size = data_size - test_size\n",
        "data = tf.data.Dataset.from_tensor_slices((padded, dataset.sentiment.to_numpy())).shuffle(1000)\n",
        "train = data.take(train_size).batch(batch_size)\n",
        "test = data.skip(train_size).batch(batch_size)\n",
        "\n",
        "len(list(train)), len(list(test))"
      ],
      "metadata": {
        "colab": {
          "base_uri": "https://localhost:8080/"
        },
        "id": "zSikkSn2METj",
        "outputId": "39a98c60-fa2f-4777-8c43-a1a8e35388bf"
      },
      "execution_count": 60,
      "outputs": [
        {
          "output_type": "execute_result",
          "data": {
            "text/plain": [
              "(50, 13)"
            ]
          },
          "metadata": {},
          "execution_count": 60
        }
      ]
    },
    {
      "cell_type": "code",
      "source": [
        "model = tf.keras.models.Sequential([\n",
        "        tf.keras.layers.Embedding(len(tokenizer.word_index)+1,64,input_length=padded.shape[1]),\n",
        "        tf.keras.layers.SimpleRNN(64),\n",
        "        tf.keras.layers.Dense(1, activation=\"sigmoid\")\n",
        "])\n",
        "\n",
        "model.compile(optimizer=\"adam\", loss=\"binary_crossentropy\", metrics=[\"accuracy\"])\n",
        "stop = tf.keras.callbacks.EarlyStopping(patience = 5)\n",
        "best = tf.keras.callbacks.ModelCheckpoint(\"best.h5\", save_only_best=True)\n",
        "\n",
        "log = model.fit(train,validation_data=test, epochs=10, callbacks=[stop, best])\n",
        "plot_training()"
      ],
      "metadata": {
        "colab": {
          "base_uri": "https://localhost:8080/",
          "height": 741
        },
        "id": "p1RFkiaIMM8-",
        "outputId": "9674b27b-42d6-4f62-b0c7-396bc933a75c"
      },
      "execution_count": 61,
      "outputs": [
        {
          "output_type": "stream",
          "name": "stdout",
          "text": [
            "Epoch 1/10\n",
            "50/50 [==============================] - 5s 48ms/step - loss: 0.6928 - accuracy: 0.5204 - val_loss: 0.6422 - val_accuracy: 0.6291\n",
            "Epoch 2/10\n",
            "50/50 [==============================] - 2s 34ms/step - loss: 0.5705 - accuracy: 0.7847 - val_loss: 0.3975 - val_accuracy: 0.9048\n",
            "Epoch 3/10\n",
            "50/50 [==============================] - 2s 34ms/step - loss: 0.3682 - accuracy: 0.8726 - val_loss: 0.2576 - val_accuracy: 0.9348\n",
            "Epoch 4/10\n",
            "50/50 [==============================] - 2s 34ms/step - loss: 0.2383 - accuracy: 0.9178 - val_loss: 0.2285 - val_accuracy: 0.9123\n",
            "Epoch 5/10\n",
            "50/50 [==============================] - 2s 34ms/step - loss: 0.1574 - accuracy: 0.9630 - val_loss: 0.0971 - val_accuracy: 0.9850\n",
            "Epoch 6/10\n",
            "50/50 [==============================] - 2s 34ms/step - loss: 0.0803 - accuracy: 0.9849 - val_loss: 0.0567 - val_accuracy: 0.9950\n",
            "Epoch 7/10\n",
            "50/50 [==============================] - 2s 34ms/step - loss: 0.0446 - accuracy: 0.9944 - val_loss: 0.0263 - val_accuracy: 0.9975\n",
            "Epoch 8/10\n",
            "50/50 [==============================] - 2s 34ms/step - loss: 0.0274 - accuracy: 0.9975 - val_loss: 0.0200 - val_accuracy: 0.9975\n",
            "Epoch 9/10\n",
            "50/50 [==============================] - 2s 34ms/step - loss: 0.0189 - accuracy: 0.9981 - val_loss: 0.0121 - val_accuracy: 1.0000\n",
            "Epoch 10/10\n",
            "50/50 [==============================] - 2s 34ms/step - loss: 0.0137 - accuracy: 0.9987 - val_loss: 0.0138 - val_accuracy: 0.9975\n"
          ]
        },
        {
          "output_type": "display_data",
          "data": {
            "text/plain": [
              "<Figure size 720x432 with 2 Axes>"
            ],
            "image/png": "[encoded data removed]"
          },
          "metadata": {
            "needs_background": "light"
          }
        }
      ]
    },
    {
      "cell_type": "markdown",
      "source": [
        "Even knowing only $\\frac{2}{3}$ of our words, the results seems promissing. Lets check our words."
      ],
      "metadata": {
        "id": "nlI1eOk-MT-i"
      }
    },
    {
      "cell_type": "code",
      "source": [
        "ordered_by_freq = [(key,val) for key,val in tokenizer.word_counts.items()]\n",
        "ordered_by_freq.sort(key=lambda tup: tup[1], reverse=True)\n",
        "ordered_by_freq[:20]"
      ],
      "metadata": {
        "colab": {
          "base_uri": "https://localhost:8080/"
        },
        "id": "84Cn1wDOM1oU",
        "outputId": "49c32bbf-febf-4379-8ce9-bfc24d16f520"
      },
      "execution_count": 73,
      "outputs": [
        {
          "output_type": "execute_result",
          "data": {
            "text/plain": [
              "[('the', 1104),\n",
              " ('and', 704),\n",
              " ('i', 627),\n",
              " ('a', 456),\n",
              " ('it', 418),\n",
              " ('to', 417),\n",
              " ('is', 414),\n",
              " ('was', 385),\n",
              " ('this', 351),\n",
              " ('of', 247),\n",
              " ('not', 233),\n",
              " ('for', 231),\n",
              " ('my', 218),\n",
              " ('in', 197),\n",
              " ('with', 183),\n",
              " ('very', 180),\n",
              " ('good', 172),\n",
              " ('great', 169),\n",
              " ('phone', 165),\n",
              " ('that', 148)]"
            ]
          },
          "metadata": {},
          "execution_count": 73
        }
      ]
    },
    {
      "cell_type": "markdown",
      "source": [
        "As we know, we didn't make any data preparation. So a lot of words are stop words. But as we can see, we can identify words such as:\n",
        "\n",
        "- not\n",
        "- very\n",
        "- good\n",
        "- great\n",
        "\n",
        "Those words capture the essence of a good review or a bad review. If the model was still going bad, here is a couple things we could do:\n",
        "\n",
        "- Remove stopwords from vocabulary\n",
        "- Use subwords in tokenization\n",
        "- Tweek the model\n",
        "\n",
        "### Conclusion\n",
        "\n",
        "This dataset didnt need any kind of data preparation, so It was very simple to work with it. Since we got a model working with 1.0 of accuracy in the validation data, I will call it a day and work in another dataset."
      ],
      "metadata": {
        "id": "cLP62jVDM5YV"
      }
    },
    {
      "cell_type": "code",
      "source": [
        "!pip install tensorflowjs\n",
        "!tensorflowjs_converter --input_format keras best.h5 ./predictor/\n",
        "from google.colab import files\n",
        "files.download(\"predictor/group1-shard1of1.bin\")\n",
        "files.download(\"predictor/model.json\")"
      ],
      "metadata": {
        "colab": {
          "base_uri": "https://localhost:8080/",
          "height": 818
        },
        "id": "SpeVuMwgPFc8",
        "outputId": "00fbaf4d-660e-4b73-877c-a9ce1cbd9476"
      },
      "execution_count": 77,
      "outputs": [
        {
          "output_type": "stream",
          "name": "stdout",
          "text": [
            "Requirement already satisfied: tensorflowjs in /usr/local/lib/python3.7/dist-packages (3.15.0)\n",
            "Requirement already satisfied: tensorflow-hub<0.13,>=0.7.0 in /usr/local/lib/python3.7/dist-packages (from tensorflowjs) (0.12.0)\n",
            "Requirement already satisfied: six<2,>=1.12.0 in /usr/local/lib/python3.7/dist-packages (from tensorflowjs) (1.15.0)\n",
            "Requirement already satisfied: tensorflow<3,>=2.1.0 in /usr/local/lib/python3.7/dist-packages (from tensorflowjs) (2.8.0)\n",
            "Requirement already satisfied: h5py>=2.9.0 in /usr/local/lib/python3.7/dist-packages (from tensorflow<3,>=2.1.0->tensorflowjs) (3.1.0)\n",
            "Requirement already satisfied: keras-preprocessing>=1.1.1 in /usr/local/lib/python3.7/dist-packages (from tensorflow<3,>=2.1.0->tensorflowjs) (1.1.2)\n",
            "Requirement already satisfied: absl-py>=0.4.0 in /usr/local/lib/python3.7/dist-packages (from tensorflow<3,>=2.1.0->tensorflowjs) (1.0.0)\n",
            "Requirement already satisfied: tf-estimator-nightly==2.8.0.dev2021122109 in /usr/local/lib/python3.7/dist-packages (from tensorflow<3,>=2.1.0->tensorflowjs) (2.8.0.dev2021122109)\n",
            "Requirement already satisfied: wrapt>=1.11.0 in /usr/local/lib/python3.7/dist-packages (from tensorflow<3,>=2.1.0->tensorflowjs) (1.14.0)\n",
            "Requirement already satisfied: libclang>=9.0.1 in /usr/local/lib/python3.7/dist-packages (from tensorflow<3,>=2.1.0->tensorflowjs) (13.0.0)\n",
            "Requirement already satisfied: gast>=0.2.1 in /usr/local/lib/python3.7/dist-packages (from tensorflow<3,>=2.1.0->tensorflowjs) (0.5.3)\n",
            "Requirement already satisfied: tensorflow-io-gcs-filesystem>=0.23.1 in /usr/local/lib/python3.7/dist-packages (from tensorflow<3,>=2.1.0->tensorflowjs) (0.24.0)\n",
            "Requirement already satisfied: setuptools in /usr/local/lib/python3.7/dist-packages (from tensorflow<3,>=2.1.0->tensorflowjs) (57.4.0)\n",
            "Requirement already satisfied: keras<2.9,>=2.8.0rc0 in /usr/local/lib/python3.7/dist-packages (from tensorflow<3,>=2.1.0->tensorflowjs) (2.8.0)\n",
            "Requirement already satisfied: opt-einsum>=2.3.2 in /usr/local/lib/python3.7/dist-packages (from tensorflow<3,>=2.1.0->tensorflowjs) (3.3.0)\n",
            "Requirement already satisfied: termcolor>=1.1.0 in /usr/local/lib/python3.7/dist-packages (from tensorflow<3,>=2.1.0->tensorflowjs) (1.1.0)\n",
            "Requirement already satisfied: numpy>=1.20 in /usr/local/lib/python3.7/dist-packages (from tensorflow<3,>=2.1.0->tensorflowjs) (1.21.6)\n",
            "Requirement already satisfied: flatbuffers>=1.12 in /usr/local/lib/python3.7/dist-packages (from tensorflow<3,>=2.1.0->tensorflowjs) (2.0)\n",
            "Requirement already satisfied: tensorboard<2.9,>=2.8 in /usr/local/lib/python3.7/dist-packages (from tensorflow<3,>=2.1.0->tensorflowjs) (2.8.0)\n",
            "Requirement already satisfied: protobuf>=3.9.2 in /usr/local/lib/python3.7/dist-packages (from tensorflow<3,>=2.1.0->tensorflowjs) (3.17.3)\n",
            "Requirement already satisfied: astunparse>=1.6.0 in /usr/local/lib/python3.7/dist-packages (from tensorflow<3,>=2.1.0->tensorflowjs) (1.6.3)\n",
            "Requirement already satisfied: grpcio<2.0,>=1.24.3 in /usr/local/lib/python3.7/dist-packages (from tensorflow<3,>=2.1.0->tensorflowjs) (1.44.0)\n",
            "Requirement already satisfied: google-pasta>=0.1.1 in /usr/local/lib/python3.7/dist-packages (from tensorflow<3,>=2.1.0->tensorflowjs) (0.2.0)\n",
            "Requirement already satisfied: typing-extensions>=3.6.6 in /usr/local/lib/python3.7/dist-packages (from tensorflow<3,>=2.1.0->tensorflowjs) (4.2.0)\n",
            "Requirement already satisfied: wheel<1.0,>=0.23.0 in /usr/local/lib/python3.7/dist-packages (from astunparse>=1.6.0->tensorflow<3,>=2.1.0->tensorflowjs) (0.37.1)\n",
            "Requirement already satisfied: cached-property in /usr/local/lib/python3.7/dist-packages (from h5py>=2.9.0->tensorflow<3,>=2.1.0->tensorflowjs) (1.5.2)\n",
            "Requirement already satisfied: markdown>=2.6.8 in /usr/local/lib/python3.7/dist-packages (from tensorboard<2.9,>=2.8->tensorflow<3,>=2.1.0->tensorflowjs) (3.3.6)\n",
            "Requirement already satisfied: tensorboard-plugin-wit>=1.6.0 in /usr/local/lib/python3.7/dist-packages (from tensorboard<2.9,>=2.8->tensorflow<3,>=2.1.0->tensorflowjs) (1.8.1)\n",
            "Requirement already satisfied: google-auth-oauthlib<0.5,>=0.4.1 in /usr/local/lib/python3.7/dist-packages (from tensorboard<2.9,>=2.8->tensorflow<3,>=2.1.0->tensorflowjs) (0.4.6)\n",
            "Requirement already satisfied: requests<3,>=2.21.0 in /usr/local/lib/python3.7/dist-packages (from tensorboard<2.9,>=2.8->tensorflow<3,>=2.1.0->tensorflowjs) (2.23.0)\n",
            "Requirement already satisfied: google-auth<3,>=1.6.3 in /usr/local/lib/python3.7/dist-packages (from tensorboard<2.9,>=2.8->tensorflow<3,>=2.1.0->tensorflowjs) (1.35.0)\n",
            "Requirement already satisfied: werkzeug>=0.11.15 in /usr/local/lib/python3.7/dist-packages (from tensorboard<2.9,>=2.8->tensorflow<3,>=2.1.0->tensorflowjs) (1.0.1)\n",
            "Requirement already satisfied: tensorboard-data-server<0.7.0,>=0.6.0 in /usr/local/lib/python3.7/dist-packages (from tensorboard<2.9,>=2.8->tensorflow<3,>=2.1.0->tensorflowjs) (0.6.1)\n",
            "Requirement already satisfied: cachetools<5.0,>=2.0.0 in /usr/local/lib/python3.7/dist-packages (from google-auth<3,>=1.6.3->tensorboard<2.9,>=2.8->tensorflow<3,>=2.1.0->tensorflowjs) (4.2.4)\n",
            "Requirement already satisfied: rsa<5,>=3.1.4 in /usr/local/lib/python3.7/dist-packages (from google-auth<3,>=1.6.3->tensorboard<2.9,>=2.8->tensorflow<3,>=2.1.0->tensorflowjs) (4.8)\n",
            "Requirement already satisfied: pyasn1-modules>=0.2.1 in /usr/local/lib/python3.7/dist-packages (from google-auth<3,>=1.6.3->tensorboard<2.9,>=2.8->tensorflow<3,>=2.1.0->tensorflowjs) (0.2.8)\n",
            "Requirement already satisfied: requests-oauthlib>=0.7.0 in /usr/local/lib/python3.7/dist-packages (from google-auth-oauthlib<0.5,>=0.4.1->tensorboard<2.9,>=2.8->tensorflow<3,>=2.1.0->tensorflowjs) (1.3.1)\n",
            "Requirement already satisfied: importlib-metadata>=4.4 in /usr/local/lib/python3.7/dist-packages (from markdown>=2.6.8->tensorboard<2.9,>=2.8->tensorflow<3,>=2.1.0->tensorflowjs) (4.11.3)\n",
            "Requirement already satisfied: zipp>=0.5 in /usr/local/lib/python3.7/dist-packages (from importlib-metadata>=4.4->markdown>=2.6.8->tensorboard<2.9,>=2.8->tensorflow<3,>=2.1.0->tensorflowjs) (3.8.0)\n",
            "Requirement already satisfied: pyasn1<0.5.0,>=0.4.6 in /usr/local/lib/python3.7/dist-packages (from pyasn1-modules>=0.2.1->google-auth<3,>=1.6.3->tensorboard<2.9,>=2.8->tensorflow<3,>=2.1.0->tensorflowjs) (0.4.8)\n",
            "Requirement already satisfied: chardet<4,>=3.0.2 in /usr/local/lib/python3.7/dist-packages (from requests<3,>=2.21.0->tensorboard<2.9,>=2.8->tensorflow<3,>=2.1.0->tensorflowjs) (3.0.4)\n",
            "Requirement already satisfied: urllib3!=1.25.0,!=1.25.1,<1.26,>=1.21.1 in /usr/local/lib/python3.7/dist-packages (from requests<3,>=2.21.0->tensorboard<2.9,>=2.8->tensorflow<3,>=2.1.0->tensorflowjs) (1.24.3)\n",
            "Requirement already satisfied: certifi>=2017.4.17 in /usr/local/lib/python3.7/dist-packages (from requests<3,>=2.21.0->tensorboard<2.9,>=2.8->tensorflow<3,>=2.1.0->tensorflowjs) (2021.10.8)\n",
            "Requirement already satisfied: idna<3,>=2.5 in /usr/local/lib/python3.7/dist-packages (from requests<3,>=2.21.0->tensorboard<2.9,>=2.8->tensorflow<3,>=2.1.0->tensorflowjs) (2.10)\n",
            "Requirement already satisfied: oauthlib>=3.0.0 in /usr/local/lib/python3.7/dist-packages (from requests-oauthlib>=0.7.0->google-auth-oauthlib<0.5,>=0.4.1->tensorboard<2.9,>=2.8->tensorflow<3,>=2.1.0->tensorflowjs) (3.2.0)\n"
          ]
        },
        {
          "output_type": "display_data",
          "data": {
            "text/plain": [
              "<IPython.core.display.Javascript object>"
            ],
            "application/javascript": [
              "\n",
              "    async function download(id, filename, size) {\n",
              "      if (!google.colab.kernel.accessAllowed) {\n",
              "        return;\n",
              "      }\n",
              "      const div = document.createElement('div');\n",
              "      const label = document.createElement('label');\n",
              "      label.textContent = `Downloading \"${filename}\": `;\n",
              "      div.appendChild(label);\n",
              "      const progress = document.createElement('progress');\n",
              "      progress.max = size;\n",
              "      div.appendChild(progress);\n",
              "      document.body.appendChild(div);\n",
              "\n",
              "      const buffers = [];\n",
              "      let downloaded = 0;\n",
              "\n",
              "      const channel = await google.colab.kernel.comms.open(id);\n",
              "      // Send a message to notify the kernel that we're ready.\n",
              "      channel.send({})\n",
              "\n",
              "      for await (const message of channel.messages) {\n",
              "        // Send a message to notify the kernel that we're ready.\n",
              "        channel.send({})\n",
              "        if (message.buffers) {\n",
              "          for (const buffer of message.buffers) {\n",
              "            buffers.push(buffer);\n",
              "            downloaded += buffer.byteLength;\n",
              "            progress.value = downloaded;\n",
              "          }\n",
              "        }\n",
              "      }\n",
              "      const blob = new Blob(buffers, {type: 'application/binary'});\n",
              "      const a = document.createElement('a');\n",
              "      a.href = window.URL.createObjectURL(blob);\n",
              "      a.download = filename;\n",
              "      div.appendChild(a);\n",
              "      a.click();\n",
              "      div.remove();\n",
              "    }\n",
              "  "
            ]
          },
          "metadata": {}
        },
        {
          "output_type": "display_data",
          "data": {
            "text/plain": [
              "<IPython.core.display.Javascript object>"
            ],
            "application/javascript": [
              "download(\"download_c72a80b6-9fce-4bfc-bf5e-c71eb3e31353\", \"group1-shard1of1.bin\", 868100)"
            ]
          },
          "metadata": {}
        },
        {
          "output_type": "display_data",
          "data": {
            "text/plain": [
              "<IPython.core.display.Javascript object>"
            ],
            "application/javascript": [
              "\n",
              "    async function download(id, filename, size) {\n",
              "      if (!google.colab.kernel.accessAllowed) {\n",
              "        return;\n",
              "      }\n",
              "      const div = document.createElement('div');\n",
              "      const label = document.createElement('label');\n",
              "      label.textContent = `Downloading \"${filename}\": `;\n",
              "      div.appendChild(label);\n",
              "      const progress = document.createElement('progress');\n",
              "      progress.max = size;\n",
              "      div.appendChild(progress);\n",
              "      document.body.appendChild(div);\n",
              "\n",
              "      const buffers = [];\n",
              "      let downloaded = 0;\n",
              "\n",
              "      const channel = await google.colab.kernel.comms.open(id);\n",
              "      // Send a message to notify the kernel that we're ready.\n",
              "      channel.send({})\n",
              "\n",
              "      for await (const message of channel.messages) {\n",
              "        // Send a message to notify the kernel that we're ready.\n",
              "        channel.send({})\n",
              "        if (message.buffers) {\n",
              "          for (const buffer of message.buffers) {\n",
              "            buffers.push(buffer);\n",
              "            downloaded += buffer.byteLength;\n",
              "            progress.value = downloaded;\n",
              "          }\n",
              "        }\n",
              "      }\n",
              "      const blob = new Blob(buffers, {type: 'application/binary'});\n",
              "      const a = document.createElement('a');\n",
              "      a.href = window.URL.createObjectURL(blob);\n",
              "      a.download = filename;\n",
              "      div.appendChild(a);\n",
              "      a.click();\n",
              "      div.remove();\n",
              "    }\n",
              "  "
            ]
          },
          "metadata": {}
        },
        {
          "output_type": "display_data",
          "data": {
            "text/plain": [
              "<IPython.core.display.Javascript object>"
            ],
            "application/javascript": [
              "download(\"download_d2a0e040-3ead-4c09-9036-d5c71b2af43c\", \"model.json\", 3055)"
            ]
          },
          "metadata": {}
        }
      ]
    },
    {
      "cell_type": "code",
      "source": [
        ""
      ],
      "metadata": {
        "id": "3GShK2E8WdBt"
      },
      "execution_count": null,
      "outputs": []
    }
  ]
}