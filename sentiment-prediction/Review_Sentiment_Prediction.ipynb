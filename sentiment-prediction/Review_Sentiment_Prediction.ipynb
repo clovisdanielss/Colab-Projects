{
  "nbformat": 4,
  "nbformat_minor": 0,
  "metadata": {
    "colab": {
      "name": "Review Sentiment Prediction.ipynb",
      "provenance": [],
      "collapsed_sections": [],
      "authorship_tag": "ABX9TyOHu9VMk1LJkHWyzqD5dv8F",
      "include_colab_link": true
    },
    "kernelspec": {
      "name": "python3",
      "display_name": "Python 3"
    },
    "language_info": {
      "name": "python"
    },
    "accelerator": "GPU"
  },
  "cells": [
    {
      "cell_type": "markdown",
      "metadata": {
        "id": "view-in-github",
        "colab_type": "text"
      },
      "source": [
        "<a href=\"https://colab.research.google.com/github/clovisdanielss/Colab-Projects/blob/main/sentiment-prediction/Review_Sentiment_Prediction.ipynb\" target=\"_parent\"><img src=\"https://colab.research.google.com/assets/colab-badge.svg\" alt=\"Open In Colab\"/></a>"
      ]
    },
    {
      "cell_type": "markdown",
      "source": [
        "### NLP Example\n",
        "\n",
        "In this notebook we'll experiment and train a NLP model to predict sentiment of products reviews."
      ],
      "metadata": {
        "id": "X6pPC_xY-tTv"
      }
    },
    {
      "cell_type": "code",
      "execution_count": 12,
      "metadata": {
        "id": "SPmNtz6o8qPQ"
      },
      "outputs": [],
      "source": [
        "import tensorflow as tf\n",
        "import pandas as pd\n",
        "import numpy as np\n",
        "import seaborn as sns\n",
        "import matplotlib.pyplot as plt\n",
        "import math"
      ]
    },
    {
      "cell_type": "code",
      "source": [
        "from tensorflow.keras.preprocessing.text import Tokenizer\n",
        "from tensorflow.keras.preprocessing.sequence import pad_sequences"
      ],
      "metadata": {
        "id": "rm9UEllD8z-G"
      },
      "execution_count": 13,
      "outputs": []
    },
    {
      "cell_type": "code",
      "source": [
        "small_dataset = pd.read_csv('https://drive.google.com/uc?id=13ySLC_ue6Umt9RJYSeM2t-V0kCv-4C-P')\n",
        "small_dataset.head()"
      ],
      "metadata": {
        "colab": {
          "base_uri": "https://localhost:8080/",
          "height": 206
        },
        "id": "yNtPKC-u9Auv",
        "outputId": "461e3625-96b2-4f6a-e89f-618ee4d0c459"
      },
      "execution_count": 14,
      "outputs": [
        {
          "output_type": "execute_result",
          "data": {
            "text/plain": [
              "   Unnamed: 0                                               text  sentiment\n",
              "0           0  So there is no way for me to plug it in here i...          0\n",
              "1           1                         Good case Excellent value.          1\n",
              "2           2                             Great for the jawbone.          1\n",
              "3           3  Tied to charger for conversations lasting more...          0\n",
              "4           4                                  The mic is great.          1"
            ],
            "text/html": [
              "\n",
              "  <div id=\"df-e7f2c777-778f-4d17-8e1d-eb75a3afe137\">\n",
              "    <div class=\"colab-df-container\">\n",
              "      <div>\n",
              "<style scoped>\n",
              "    .dataframe tbody tr th:only-of-type {\n",
              "        vertical-align: middle;\n",
              "    }\n",
              "\n",
              "    .dataframe tbody tr th {\n",
              "        vertical-align: top;\n",
              "    }\n",
              "\n",
              "    .dataframe thead th {\n",
              "        text-align: right;\n",
              "    }\n",
              "</style>\n",
              "<table border=\"1\" class=\"dataframe\">\n",
              "  <thead>\n",
              "    <tr style=\"text-align: right;\">\n",
              "      <th></th>\n",
              "      <th>Unnamed: 0</th>\n",
              "      <th>text</th>\n",
              "      <th>sentiment</th>\n",
              "    </tr>\n",
              "  </thead>\n",
              "  <tbody>\n",
              "    <tr>\n",
              "      <th>0</th>\n",
              "      <td>0</td>\n",
              "      <td>So there is no way for me to plug it in here i...</td>\n",
              "      <td>0</td>\n",
              "    </tr>\n",
              "    <tr>\n",
              "      <th>1</th>\n",
              "      <td>1</td>\n",
              "      <td>Good case Excellent value.</td>\n",
              "      <td>1</td>\n",
              "    </tr>\n",
              "    <tr>\n",
              "      <th>2</th>\n",
              "      <td>2</td>\n",
              "      <td>Great for the jawbone.</td>\n",
              "      <td>1</td>\n",
              "    </tr>\n",
              "    <tr>\n",
              "      <th>3</th>\n",
              "      <td>3</td>\n",
              "      <td>Tied to charger for conversations lasting more...</td>\n",
              "      <td>0</td>\n",
              "    </tr>\n",
              "    <tr>\n",
              "      <th>4</th>\n",
              "      <td>4</td>\n",
              "      <td>The mic is great.</td>\n",
              "      <td>1</td>\n",
              "    </tr>\n",
              "  </tbody>\n",
              "</table>\n",
              "</div>\n",
              "      <button class=\"colab-df-convert\" onclick=\"convertToInteractive('df-e7f2c777-778f-4d17-8e1d-eb75a3afe137')\"\n",
              "              title=\"Convert this dataframe to an interactive table.\"\n",
              "              style=\"display:none;\">\n",
              "        \n",
              "  <svg xmlns=\"http://www.w3.org/2000/svg\" height=\"24px\"viewBox=\"0 0 24 24\"\n",
              "       width=\"24px\">\n",
              "    <path d=\"M0 0h24v24H0V0z\" fill=\"none\"/>\n",
              "    <path d=\"M18.56 5.44l.94 2.06.94-2.06 2.06-.94-2.06-.94-.94-2.06-.94 2.06-2.06.94zm-11 1L8.5 8.5l.94-2.06 2.06-.94-2.06-.94L8.5 2.5l-.94 2.06-2.06.94zm10 10l.94 2.06.94-2.06 2.06-.94-2.06-.94-.94-2.06-.94 2.06-2.06.94z\"/><path d=\"M17.41 7.96l-1.37-1.37c-.4-.4-.92-.59-1.43-.59-.52 0-1.04.2-1.43.59L10.3 9.45l-7.72 7.72c-.78.78-.78 2.05 0 2.83L4 21.41c.39.39.9.59 1.41.59.51 0 1.02-.2 1.41-.59l7.78-7.78 2.81-2.81c.8-.78.8-2.07 0-2.86zM5.41 20L4 18.59l7.72-7.72 1.47 1.35L5.41 20z\"/>\n",
              "  </svg>\n",
              "      </button>\n",
              "      \n",
              "  <style>\n",
              "    .colab-df-container {\n",
              "      display:flex;\n",
              "      flex-wrap:wrap;\n",
              "      gap: 12px;\n",
              "    }\n",
              "\n",
              "    .colab-df-convert {\n",
              "      background-color: #E8F0FE;\n",
              "      border: none;\n",
              "      border-radius: 50%;\n",
              "      cursor: pointer;\n",
              "      display: none;\n",
              "      fill: #1967D2;\n",
              "      height: 32px;\n",
              "      padding: 0 0 0 0;\n",
              "      width: 32px;\n",
              "    }\n",
              "\n",
              "    .colab-df-convert:hover {\n",
              "      background-color: #E2EBFA;\n",
              "      box-shadow: 0px 1px 2px rgba(60, 64, 67, 0.3), 0px 1px 3px 1px rgba(60, 64, 67, 0.15);\n",
              "      fill: #174EA6;\n",
              "    }\n",
              "\n",
              "    [theme=dark] .colab-df-convert {\n",
              "      background-color: #3B4455;\n",
              "      fill: #D2E3FC;\n",
              "    }\n",
              "\n",
              "    [theme=dark] .colab-df-convert:hover {\n",
              "      background-color: #434B5C;\n",
              "      box-shadow: 0px 1px 3px 1px rgba(0, 0, 0, 0.15);\n",
              "      filter: drop-shadow(0px 1px 2px rgba(0, 0, 0, 0.3));\n",
              "      fill: #FFFFFF;\n",
              "    }\n",
              "  </style>\n",
              "\n",
              "      <script>\n",
              "        const buttonEl =\n",
              "          document.querySelector('#df-e7f2c777-778f-4d17-8e1d-eb75a3afe137 button.colab-df-convert');\n",
              "        buttonEl.style.display =\n",
              "          google.colab.kernel.accessAllowed ? 'block' : 'none';\n",
              "\n",
              "        async function convertToInteractive(key) {\n",
              "          const element = document.querySelector('#df-e7f2c777-778f-4d17-8e1d-eb75a3afe137');\n",
              "          const dataTable =\n",
              "            await google.colab.kernel.invokeFunction('convertToInteractive',\n",
              "                                                     [key], {});\n",
              "          if (!dataTable) return;\n",
              "\n",
              "          const docLinkHtml = 'Like what you see? Visit the ' +\n",
              "            '<a target=\"_blank\" href=https://colab.research.google.com/notebooks/data_table.ipynb>data table notebook</a>'\n",
              "            + ' to learn more about interactive tables.';\n",
              "          element.innerHTML = '';\n",
              "          dataTable['output_type'] = 'display_data';\n",
              "          await google.colab.output.renderOutput(dataTable, element);\n",
              "          const docLink = document.createElement('div');\n",
              "          docLink.innerHTML = docLinkHtml;\n",
              "          element.appendChild(docLink);\n",
              "        }\n",
              "      </script>\n",
              "    </div>\n",
              "  </div>\n",
              "  "
            ]
          },
          "metadata": {},
          "execution_count": 14
        }
      ]
    },
    {
      "cell_type": "code",
      "source": [
        "small_dataset.text"
      ],
      "metadata": {
        "colab": {
          "base_uri": "https://localhost:8080/"
        },
        "id": "mg6cr6vy9rJR",
        "outputId": "f610a197-a7e2-4280-8984-5354a07d2736"
      },
      "execution_count": 15,
      "outputs": [
        {
          "output_type": "execute_result",
          "data": {
            "text/plain": [
              "0       So there is no way for me to plug it in here i...\n",
              "1                              Good case Excellent value.\n",
              "2                                  Great for the jawbone.\n",
              "3       Tied to charger for conversations lasting more...\n",
              "4                                       The mic is great.\n",
              "                              ...                        \n",
              "1987    I think food should have flavor and texture an...\n",
              "1988                             Appetite instantly gone.\n",
              "1989    Overall I was not impressed and would not go b...\n",
              "1990    The whole experience was underwhelming and I t...\n",
              "1991    Then as if I hadn't wasted enough of my life t...\n",
              "Name: text, Length: 1992, dtype: object"
            ]
          },
          "metadata": {},
          "execution_count": 15
        }
      ]
    },
    {
      "cell_type": "code",
      "source": [
        "small_tokenizer = Tokenizer()\n",
        "small_tokenizer.fit_on_texts(small_dataset.text)\n",
        "len(small_tokenizer.word_index)"
      ],
      "metadata": {
        "colab": {
          "base_uri": "https://localhost:8080/"
        },
        "id": "NhljyjWY9YOy",
        "outputId": "3163a982-c645-4a1f-c4ac-c94711689337"
      },
      "execution_count": 16,
      "outputs": [
        {
          "output_type": "execute_result",
          "data": {
            "text/plain": [
              "3260"
            ]
          },
          "metadata": {},
          "execution_count": 16
        }
      ]
    },
    {
      "cell_type": "code",
      "source": [
        "small_sequences = small_tokenizer.texts_to_sequences(small_dataset.text)\n",
        "small_padded = pad_sequences(small_sequences)\n",
        "small_padded"
      ],
      "metadata": {
        "colab": {
          "base_uri": "https://localhost:8080/"
        },
        "id": "SrWAPJX294mD",
        "outputId": "e5582437-cc5a-43cc-dc56-23959815d32b"
      },
      "execution_count": 17,
      "outputs": [
        {
          "output_type": "execute_result",
          "data": {
            "text/plain": [
              "array([[   0,    0,    0, ...,  112,    4, 1428],\n",
              "       [   0,    0,    0, ...,  109,   86,  396],\n",
              "       [   0,    0,    0, ...,   12,    1,  731],\n",
              "       ...,\n",
              "       [   0,    0,    0, ...,   11,   59,   39],\n",
              "       [   0,    0,    0, ...,  245,  242,   38],\n",
              "       [   0,    0,    0, ...,  604,    1,  374]], dtype=int32)"
            ]
          },
          "metadata": {},
          "execution_count": 17
        }
      ]
    },
    {
      "cell_type": "code",
      "source": [
        "tf.random.set_seed(42)\n",
        "batch_size = 32\n",
        "small_train = tf.data.Dataset.from_tensor_slices((small_padded, small_dataset.sentiment.to_numpy())).batch(batch_size)"
      ],
      "metadata": {
        "id": "kksQYAkqAoGO"
      },
      "execution_count": 18,
      "outputs": []
    },
    {
      "cell_type": "code",
      "source": [
        "len(list(small_train)),len(list(small_train))*batch_size,small_dataset.text.to_numpy().shape"
      ],
      "metadata": {
        "colab": {
          "base_uri": "https://localhost:8080/"
        },
        "id": "-ATSbc4DCSe1",
        "outputId": "fc3c3753-fd17-410e-fbbd-f15b083a2870"
      },
      "execution_count": 19,
      "outputs": [
        {
          "output_type": "execute_result",
          "data": {
            "text/plain": [
              "(63, 2016, (1992,))"
            ]
          },
          "metadata": {},
          "execution_count": 19
        }
      ]
    },
    {
      "cell_type": "markdown",
      "source": [
        "Let's check how a simple nlp model behaves without any data preparation. \n",
        "\n",
        "#### Our first model"
      ],
      "metadata": {
        "id": "EnFBuutY_LFC"
      }
    },
    {
      "cell_type": "code",
      "source": [
        "small_model = tf.keras.models.Sequential([\n",
        "        tf.keras.layers.Embedding(len(small_tokenizer.word_index)+1,64,input_length=small_padded.shape[1]),\n",
        "        tf.keras.layers.SimpleRNN(64),\n",
        "        tf.keras.layers.Dense(1, activation=\"sigmoid\")\n",
        "])\n",
        "\n",
        "small_model.compile(optimizer=\"adam\", loss=\"binary_crossentropy\", metrics=[\"accuracy\"])\n",
        "stop = tf.keras.callbacks.EarlyStopping(patience = 5, monitor=\"loss\")\n",
        "\n",
        "small_model.fit(small_train, epochs=10, callbacks=[stop])"
      ],
      "metadata": {
        "colab": {
          "base_uri": "https://localhost:8080/"
        },
        "id": "3Y8D8FXa-TaW",
        "outputId": "8ef5bf78-1bc3-4516-881d-83dc23c3ec58"
      },
      "execution_count": 20,
      "outputs": [
        {
          "output_type": "stream",
          "name": "stdout",
          "text": [
            "Epoch 1/10\n",
            "63/63 [==============================] - 12s 167ms/step - loss: 0.6820 - accuracy: 0.5542\n",
            "Epoch 2/10\n",
            "63/63 [==============================] - 10s 165ms/step - loss: 0.5872 - accuracy: 0.7495\n",
            "Epoch 3/10\n",
            "63/63 [==============================] - 11s 177ms/step - loss: 0.3905 - accuracy: 0.8559\n",
            "Epoch 4/10\n",
            "63/63 [==============================] - 11s 167ms/step - loss: 0.1574 - accuracy: 0.9799\n",
            "Epoch 5/10\n",
            "63/63 [==============================] - 11s 167ms/step - loss: 0.0645 - accuracy: 0.9955\n",
            "Epoch 6/10\n",
            "63/63 [==============================] - 10s 166ms/step - loss: 0.0434 - accuracy: 0.9980\n",
            "Epoch 7/10\n",
            "63/63 [==============================] - 11s 170ms/step - loss: 0.0353 - accuracy: 0.9945\n",
            "Epoch 8/10\n",
            "63/63 [==============================] - 11s 168ms/step - loss: 0.0160 - accuracy: 0.9990\n",
            "Epoch 9/10\n",
            "63/63 [==============================] - 15s 227ms/step - loss: 0.0106 - accuracy: 1.0000\n",
            "Epoch 10/10\n",
            "63/63 [==============================] - 10s 166ms/step - loss: 0.0077 - accuracy: 1.0000\n"
          ]
        },
        {
          "output_type": "execute_result",
          "data": {
            "text/plain": [
              "<keras.callbacks.History at 0x7f863e69cdd0>"
            ]
          },
          "metadata": {},
          "execution_count": 20
        }
      ]
    },
    {
      "cell_type": "code",
      "source": [
        "def predict(text, model):\n",
        "  seq = tokenizer.texts_to_sequences([text])\n",
        "  pad = pad_sequences(seq, small_padded.shape[1])\n",
        "  pred = model.predict(pad)\n",
        "  return pred\n",
        "\n",
        "predict(\"I did NOT like your product\", small_model)"
      ],
      "metadata": {
        "colab": {
          "base_uri": "https://localhost:8080/"
        },
        "id": "nC2_BoOVCFI-",
        "outputId": "699576c3-f626-423a-cdaa-e1dcab5db6b8"
      },
      "execution_count": 22,
      "outputs": [
        {
          "output_type": "execute_result",
          "data": {
            "text/plain": [
              "array([[0.98519105]], dtype=float32)"
            ]
          },
          "metadata": {},
          "execution_count": 22
        }
      ]
    },
    {
      "cell_type": "markdown",
      "source": [
        "Our first model seems to be fine. But It's most like overfitting. We will now split our data to check it."
      ],
      "metadata": {
        "id": "faBq8q0iDbCl"
      }
    },
    {
      "cell_type": "code",
      "source": [
        "tf.random.set_seed(42)\n",
        "batch_size = 32\n",
        "data_size = small_dataset.text.to_numpy().shape[0]\n",
        "test_size = math.ceil(data_size/5)\n",
        "train_size = data_size - test_size\n",
        "small_data = tf.data.Dataset.from_tensor_slices((small_padded, small_dataset.sentiment.to_numpy())).shuffle(1000)\n",
        "small_train = small_data.take(train_size).batch(batch_size)\n",
        "small_test = small_data.skip(train_size).batch(batch_size)\n",
        "\n",
        "len(list(small_train)), len(list(small_test))"
      ],
      "metadata": {
        "colab": {
          "base_uri": "https://localhost:8080/"
        },
        "id": "pmEFr7XtGUzy",
        "outputId": "f0828e4e-500a-4ece-a273-29d133c694df"
      },
      "execution_count": 23,
      "outputs": [
        {
          "output_type": "execute_result",
          "data": {
            "text/plain": [
              "(50, 13)"
            ]
          },
          "metadata": {},
          "execution_count": 23
        }
      ]
    },
    {
      "cell_type": "code",
      "source": [
        "small_model = tf.keras.models.Sequential([\n",
        "        tf.keras.layers.Embedding(len(small_tokenizer.word_index)+1,64,input_length=small_padded.shape[1]),\n",
        "        tf.keras.layers.SimpleRNN(64),\n",
        "        tf.keras.layers.Dense(1, activation=\"sigmoid\")\n",
        "])\n",
        "\n",
        "small_model.compile(optimizer=\"adam\", loss=\"binary_crossentropy\", metrics=[\"accuracy\"])\n",
        "stop = tf.keras.callbacks.EarlyStopping(patience = 5)\n",
        "best = tf.keras.callbacks.ModelCheckpoint(\"best.h5\", save_only_best=True)\n",
        "\n",
        "log = small_model.fit(small_train,validation_data=small_test, epochs=10, callbacks=[stop, best])"
      ],
      "metadata": {
        "colab": {
          "base_uri": "https://localhost:8080/"
        },
        "id": "ad0fj-EtJQcl",
        "outputId": "aa1fe3af-3e4d-4aa7-c4c7-e1df48ade63d"
      },
      "execution_count": 24,
      "outputs": [
        {
          "output_type": "stream",
          "name": "stdout",
          "text": [
            "Epoch 1/10\n",
            "50/50 [==============================] - 10s 184ms/step - loss: 0.6932 - accuracy: 0.5261 - val_loss: 0.6272 - val_accuracy: 0.7594\n",
            "Epoch 2/10\n",
            "50/50 [==============================] - 9s 175ms/step - loss: 0.5634 - accuracy: 0.7991 - val_loss: 0.3875 - val_accuracy: 0.9198\n",
            "Epoch 3/10\n",
            "50/50 [==============================] - 9s 177ms/step - loss: 0.3493 - accuracy: 0.8989 - val_loss: 0.2404 - val_accuracy: 0.9323\n",
            "Epoch 4/10\n",
            "50/50 [==============================] - 9s 177ms/step - loss: 0.1628 - accuracy: 0.9642 - val_loss: 0.0904 - val_accuracy: 0.9850\n",
            "Epoch 5/10\n",
            "50/50 [==============================] - 9s 178ms/step - loss: 0.0909 - accuracy: 0.9799 - val_loss: 0.0545 - val_accuracy: 0.9925\n",
            "Epoch 6/10\n",
            "50/50 [==============================] - 9s 177ms/step - loss: 0.0447 - accuracy: 0.9944 - val_loss: 0.0309 - val_accuracy: 0.9975\n",
            "Epoch 7/10\n",
            "50/50 [==============================] - 9s 172ms/step - loss: 0.0269 - accuracy: 0.9956 - val_loss: 0.0177 - val_accuracy: 0.9975\n",
            "Epoch 8/10\n",
            "50/50 [==============================] - 9s 174ms/step - loss: 0.0159 - accuracy: 0.9994 - val_loss: 0.0113 - val_accuracy: 1.0000\n",
            "Epoch 9/10\n",
            "50/50 [==============================] - 9s 177ms/step - loss: 0.0133 - accuracy: 0.9987 - val_loss: 0.0080 - val_accuracy: 1.0000\n",
            "Epoch 10/10\n",
            "50/50 [==============================] - 9s 177ms/step - loss: 0.0088 - accuracy: 1.0000 - val_loss: 0.0054 - val_accuracy: 1.0000\n"
          ]
        }
      ]
    },
    {
      "cell_type": "code",
      "source": [
        "predict(\"Wow, this is amazing\",small_model)"
      ],
      "metadata": {
        "colab": {
          "base_uri": "https://localhost:8080/"
        },
        "id": "uIUuMcJHJjjr",
        "outputId": "b280bb92-bb0f-42f5-95fd-ce22e1c26781"
      },
      "execution_count": 25,
      "outputs": [
        {
          "output_type": "execute_result",
          "data": {
            "text/plain": [
              "array([[0.76315844]], dtype=float32)"
            ]
          },
          "metadata": {},
          "execution_count": 25
        }
      ]
    },
    {
      "cell_type": "code",
      "source": [
        "def plot_training(log):\n",
        "  epochs = len(log.history[\"loss\"])\n",
        "  plt.figure(figsize=(10,6))\n",
        "  plt.subplot(1,2,1)\n",
        "  plt.plot(range(epochs), log.history[\"loss\"], label=\"loss\")\n",
        "  plt.plot(range(epochs), log.history[\"val_loss\"], label=\"val_loss\")\n",
        "  plt.legend()\n",
        "  plt.subplot(1,2,2)\n",
        "  plt.plot(range(epochs), log.history[\"accuracy\"], label=\"acc\")\n",
        "  plt.plot(range(epochs), log.history[\"val_accuracy\"], label=\"val_acc\")\n",
        "  plt.legend()\n",
        "\n",
        "plot_training(log)"
      ],
      "metadata": {
        "colab": {
          "base_uri": "https://localhost:8080/",
          "height": 374
        },
        "id": "jaTtkqfmJveP",
        "outputId": "b6713992-1eef-497c-fc5a-5faffeb1e935"
      },
      "execution_count": 26,
      "outputs": [
        {
          "output_type": "display_data",
          "data": {
            "text/plain": [
              "<Figure size 720x432 with 2 Axes>"
            ],
            "image/png": "[encoded data removed]"
          },
          "metadata": {
            "needs_background": "light"
          }
        }
      ]
    },
    {
      "cell_type": "markdown",
      "source": [
        "Ok, It's not overfitting. But there are two things to say. \n",
        "\n",
        "- The dataset is too small. We just have 2000 phrases. This is way to little. \n",
        "- We know all the words in the test set. This will never happen.\n",
        "\n",
        "So if we want to make a more real experimentation, let's try limit our word_index"
      ],
      "metadata": {
        "id": "HEloa7vLKxrJ"
      }
    },
    {
      "cell_type": "code",
      "source": [
        "small_tokenizer = Tokenizer(num_words=2000, oov_token=\"<UNK>\")\n",
        "small_tokenizer.fit_on_texts(small_dataset.text)\n",
        "small_sequences = small_tokenizer.texts_to_sequences(small_dataset.text)\n",
        "small_padded = pad_sequences(small_sequences)\n",
        "small_padded.shape"
      ],
      "metadata": {
        "colab": {
          "base_uri": "https://localhost:8080/"
        },
        "id": "moQWUfeFLtXD",
        "outputId": "c6b7bde6-d39e-4d37-ae1b-43c2c529ef59"
      },
      "execution_count": 27,
      "outputs": [
        {
          "output_type": "execute_result",
          "data": {
            "text/plain": [
              "(1992, 139)"
            ]
          },
          "metadata": {},
          "execution_count": 27
        }
      ]
    },
    {
      "cell_type": "markdown",
      "source": [
        "Now, we only know $\\frac{2}{3}$ of the words in our dataset"
      ],
      "metadata": {
        "id": "gEpI7c4CL_DV"
      }
    },
    {
      "cell_type": "code",
      "source": [
        "tf.random.set_seed(42)\n",
        "batch_size = 32\n",
        "data_size = small_dataset.text.to_numpy().shape[0]\n",
        "test_size = math.ceil(data_size/5)\n",
        "train_size = data_size - test_size\n",
        "small_data = tf.data.Dataset.from_tensor_slices((small_padded, small_dataset.sentiment.to_numpy())).shuffle(1000)\n",
        "small_train = small_data.take(train_size).batch(batch_size)\n",
        "small_test = small_data.skip(train_size).batch(batch_size)\n",
        "\n",
        "len(list(small_train)), len(list(small_test))"
      ],
      "metadata": {
        "colab": {
          "base_uri": "https://localhost:8080/"
        },
        "id": "zSikkSn2METj",
        "outputId": "98fa1001-9471-4ac6-a7ca-52df388e3cfe"
      },
      "execution_count": 28,
      "outputs": [
        {
          "output_type": "execute_result",
          "data": {
            "text/plain": [
              "(50, 13)"
            ]
          },
          "metadata": {},
          "execution_count": 28
        }
      ]
    },
    {
      "cell_type": "code",
      "source": [
        "small_model = tf.keras.models.Sequential([\n",
        "        tf.keras.layers.Embedding(len(small_tokenizer.word_index)+1,64,input_length=small_padded.shape[1]),\n",
        "        tf.keras.layers.SimpleRNN(64),\n",
        "        tf.keras.layers.Dense(1, activation=\"sigmoid\")\n",
        "])\n",
        "\n",
        "small_model.compile(optimizer=\"adam\", loss=\"binary_crossentropy\", metrics=[\"accuracy\"])\n",
        "stop = tf.keras.callbacks.EarlyStopping(patience = 5)\n",
        "best = tf.keras.callbacks.ModelCheckpoint(\"best.h5\", save_only_best=True)\n",
        "\n",
        "log = small_model.fit(small_train,validation_data=small_test, epochs=10, callbacks=[stop, best])\n",
        "plot_training(log)"
      ],
      "metadata": {
        "colab": {
          "base_uri": "https://localhost:8080/",
          "height": 741
        },
        "id": "p1RFkiaIMM8-",
        "outputId": "1468d0c2-546e-47d4-f468-e7206c66d385"
      },
      "execution_count": 29,
      "outputs": [
        {
          "output_type": "stream",
          "name": "stdout",
          "text": [
            "Epoch 1/10\n",
            "50/50 [==============================] - 10s 182ms/step - loss: 0.6889 - accuracy: 0.5455 - val_loss: 0.6318 - val_accuracy: 0.7068\n",
            "Epoch 2/10\n",
            "50/50 [==============================] - 9s 176ms/step - loss: 0.5625 - accuracy: 0.7853 - val_loss: 0.3903 - val_accuracy: 0.9073\n",
            "Epoch 3/10\n",
            "50/50 [==============================] - 9s 178ms/step - loss: 0.4056 - accuracy: 0.8487 - val_loss: 0.2958 - val_accuracy: 0.9248\n",
            "Epoch 4/10\n",
            "50/50 [==============================] - 9s 179ms/step - loss: 0.2294 - accuracy: 0.9435 - val_loss: 0.1514 - val_accuracy: 0.9599\n",
            "Epoch 5/10\n",
            "50/50 [==============================] - 9s 176ms/step - loss: 0.1225 - accuracy: 0.9711 - val_loss: 0.0795 - val_accuracy: 0.9825\n",
            "Epoch 6/10\n",
            "50/50 [==============================] - 9s 176ms/step - loss: 0.0662 - accuracy: 0.9881 - val_loss: 0.0534 - val_accuracy: 0.9900\n",
            "Epoch 7/10\n",
            "50/50 [==============================] - 9s 180ms/step - loss: 0.0420 - accuracy: 0.9937 - val_loss: 0.0248 - val_accuracy: 0.9975\n",
            "Epoch 8/10\n",
            "50/50 [==============================] - 9s 183ms/step - loss: 0.0264 - accuracy: 0.9975 - val_loss: 0.0183 - val_accuracy: 1.0000\n",
            "Epoch 9/10\n",
            "50/50 [==============================] - 12s 234ms/step - loss: 0.0181 - accuracy: 0.9987 - val_loss: 0.0107 - val_accuracy: 1.0000\n",
            "Epoch 10/10\n",
            "50/50 [==============================] - 9s 184ms/step - loss: 0.0118 - accuracy: 1.0000 - val_loss: 0.0110 - val_accuracy: 1.0000\n"
          ]
        },
        {
          "output_type": "display_data",
          "data": {
            "text/plain": [
              "<Figure size 720x432 with 2 Axes>"
            ],
            "image/png": "[encoded data removed]"
          },
          "metadata": {
            "needs_background": "light"
          }
        }
      ]
    },
    {
      "cell_type": "markdown",
      "source": [
        "Even knowing only $\\frac{2}{3}$ of our words, the results seems promissing. Lets check our words."
      ],
      "metadata": {
        "id": "nlI1eOk-MT-i"
      }
    },
    {
      "cell_type": "code",
      "source": [
        "ordered_by_freq = [(key,val) for key,val in small_tokenizer.word_counts.items()]\n",
        "ordered_by_freq.sort(key=lambda tup: tup[1], reverse=True)\n",
        "ordered_by_freq[:20]"
      ],
      "metadata": {
        "colab": {
          "base_uri": "https://localhost:8080/"
        },
        "id": "84Cn1wDOM1oU",
        "outputId": "b41a6217-e3ff-46dd-fddd-51e6eea728da"
      },
      "execution_count": 30,
      "outputs": [
        {
          "output_type": "execute_result",
          "data": {
            "text/plain": [
              "[('the', 1104),\n",
              " ('and', 704),\n",
              " ('i', 627),\n",
              " ('a', 456),\n",
              " ('it', 418),\n",
              " ('to', 417),\n",
              " ('is', 414),\n",
              " ('was', 385),\n",
              " ('this', 351),\n",
              " ('of', 247),\n",
              " ('not', 233),\n",
              " ('for', 231),\n",
              " ('my', 218),\n",
              " ('in', 197),\n",
              " ('with', 183),\n",
              " ('very', 180),\n",
              " ('good', 172),\n",
              " ('great', 169),\n",
              " ('phone', 165),\n",
              " ('that', 148)]"
            ]
          },
          "metadata": {},
          "execution_count": 30
        }
      ]
    },
    {
      "cell_type": "markdown",
      "source": [
        "As we know, we didn't make any data preparation. So a lot of words are stop words. But as we can see, we can identify words such as:\n",
        "\n",
        "- not\n",
        "- very\n",
        "- good\n",
        "- great\n",
        "\n",
        "Those words capture the essence of a good review or a bad review. If the model was still going bad, here is a couple things we could do:\n",
        "\n",
        "- Remove stopwords from vocabulary\n",
        "- Use subwords in tokenization\n",
        "- Tweek the model\n",
        "\n",
        "### Conclusion\n",
        "\n",
        "This dataset didnt need any kind of data preparation, so It was very simple to work with it. Since we got a model working with 1.0 of accuracy in the validation data, I will call it a day and work in another dataset."
      ],
      "metadata": {
        "id": "cLP62jVDM5YV"
      }
    },
    {
      "cell_type": "code",
      "source": [
        "#!pip install tensorflowjs\n",
        "#!tensorflowjs_converter --input_format keras best.h5 ./predictor/\n",
        "#from google.colab import files\n",
        "#files.download(\"predictor/group1-shard1of1.bin\")\n",
        "#files.download(\"predictor/model.json\")"
      ],
      "metadata": {
        "id": "SpeVuMwgPFc8"
      },
      "execution_count": null,
      "outputs": []
    },
    {
      "cell_type": "code",
      "source": [
        "#import io\n",
        "#import json \n",
        "#tokenizer_json = small_tokenizer.to_json()\n",
        "#with io.open('tokenizer.json', 'w', encoding='utf-8') as f:\n",
        "#    f.write(json.dumps(json.loads(tokenizer_json),ensure_ascii=False))"
      ],
      "metadata": {
        "id": "3GShK2E8WdBt"
      },
      "execution_count": null,
      "outputs": []
    },
    {
      "cell_type": "markdown",
      "source": [
        "### Trying a bigger dataset"
      ],
      "metadata": {
        "id": "y9ZzUCswNMU9"
      }
    },
    {
      "cell_type": "code",
      "source": [
        "import tensorflow_datasets as tfds\n",
        "import tensorflow as tf\n",
        "import math\n",
        "import matplotlib.pyplot as plt\n",
        "import seaborn as sns\n",
        "import pandas as pd\n",
        "\n",
        "def plot_training():\n",
        "  epochs = len(log.history[\"loss\"])\n",
        "  plt.figure(figsize=(10,6))\n",
        "  plt.subplot(1,2,1)\n",
        "  plt.plot(range(epochs), log.history[\"loss\"], label=\"loss\")\n",
        "  plt.plot(range(epochs), log.history[\"val_loss\"], label=\"val_loss\")\n",
        "  plt.legend()\n",
        "  plt.subplot(1,2,2)\n",
        "  plt.plot(range(epochs), log.history[\"accuracy\"], label=\"acc\")\n",
        "  plt.plot(range(epochs), log.history[\"val_accuracy\"], label=\"val_acc\")\n",
        "  plt.legend()"
      ],
      "metadata": {
        "id": "ulklqlcD_fRj"
      },
      "execution_count": 31,
      "outputs": []
    },
    {
      "cell_type": "code",
      "source": [
        "from zipfile import ZipFile\n",
        "from urllib.request import urlopen \n",
        "\n",
        "url = urlopen(\"https://dl.fbaipublicfiles.com/glue/data/SST-2.zip\")\n",
        "with open(\"dataset.zip\", \"wb\") as sst:\n",
        "  sst.write(url.read())"
      ],
      "metadata": {
        "id": "oVqZreStNFlS"
      },
      "execution_count": 32,
      "outputs": []
    },
    {
      "cell_type": "code",
      "source": [
        "train_data = pd.read_csv(ZipFile(\"./dataset.zip\").open(\"SST-2/train.tsv\"), sep=\"\\t\")\n",
        "test_data = pd.read_csv(ZipFile(\"./dataset.zip\").open(\"SST-2/test.tsv\"), sep=\"\\t\")\n",
        "train_data"
      ],
      "metadata": {
        "colab": {
          "base_uri": "https://localhost:8080/",
          "height": 424
        },
        "id": "QeYlosdHOV9n",
        "outputId": "fd4096aa-27e3-4269-8b72-712a012a009a"
      },
      "execution_count": 33,
      "outputs": [
        {
          "output_type": "execute_result",
          "data": {
            "text/plain": [
              "                                                sentence  label\n",
              "0           hide new secretions from the parental units       0\n",
              "1                   contains no wit , only labored gags       0\n",
              "2      that loves its characters and communicates som...      1\n",
              "3      remains utterly satisfied to remain the same t...      0\n",
              "4      on the worst revenge-of-the-nerds clichés the ...      0\n",
              "...                                                  ...    ...\n",
              "67344                               a delightful comedy       1\n",
              "67345                   anguish , anger and frustration       0\n",
              "67346  at achieving the modest , crowd-pleasing goals...      1\n",
              "67347                                  a patient viewer       1\n",
              "67348  this new jangle of noise , mayhem and stupidit...      0\n",
              "\n",
              "[67349 rows x 2 columns]"
            ],
            "text/html": [
              "\n",
              "  <div id=\"df-7ef19113-4df7-4a19-8525-3e7c03527bc3\">\n",
              "    <div class=\"colab-df-container\">\n",
              "      <div>\n",
              "<style scoped>\n",
              "    .dataframe tbody tr th:only-of-type {\n",
              "        vertical-align: middle;\n",
              "    }\n",
              "\n",
              "    .dataframe tbody tr th {\n",
              "        vertical-align: top;\n",
              "    }\n",
              "\n",
              "    .dataframe thead th {\n",
              "        text-align: right;\n",
              "    }\n",
              "</style>\n",
              "<table border=\"1\" class=\"dataframe\">\n",
              "  <thead>\n",
              "    <tr style=\"text-align: right;\">\n",
              "      <th></th>\n",
              "      <th>sentence</th>\n",
              "      <th>label</th>\n",
              "    </tr>\n",
              "  </thead>\n",
              "  <tbody>\n",
              "    <tr>\n",
              "      <th>0</th>\n",
              "      <td>hide new secretions from the parental units</td>\n",
              "      <td>0</td>\n",
              "    </tr>\n",
              "    <tr>\n",
              "      <th>1</th>\n",
              "      <td>contains no wit , only labored gags</td>\n",
              "      <td>0</td>\n",
              "    </tr>\n",
              "    <tr>\n",
              "      <th>2</th>\n",
              "      <td>that loves its characters and communicates som...</td>\n",
              "      <td>1</td>\n",
              "    </tr>\n",
              "    <tr>\n",
              "      <th>3</th>\n",
              "      <td>remains utterly satisfied to remain the same t...</td>\n",
              "      <td>0</td>\n",
              "    </tr>\n",
              "    <tr>\n",
              "      <th>4</th>\n",
              "      <td>on the worst revenge-of-the-nerds clichés the ...</td>\n",
              "      <td>0</td>\n",
              "    </tr>\n",
              "    <tr>\n",
              "      <th>...</th>\n",
              "      <td>...</td>\n",
              "      <td>...</td>\n",
              "    </tr>\n",
              "    <tr>\n",
              "      <th>67344</th>\n",
              "      <td>a delightful comedy</td>\n",
              "      <td>1</td>\n",
              "    </tr>\n",
              "    <tr>\n",
              "      <th>67345</th>\n",
              "      <td>anguish , anger and frustration</td>\n",
              "      <td>0</td>\n",
              "    </tr>\n",
              "    <tr>\n",
              "      <th>67346</th>\n",
              "      <td>at achieving the modest , crowd-pleasing goals...</td>\n",
              "      <td>1</td>\n",
              "    </tr>\n",
              "    <tr>\n",
              "      <th>67347</th>\n",
              "      <td>a patient viewer</td>\n",
              "      <td>1</td>\n",
              "    </tr>\n",
              "    <tr>\n",
              "      <th>67348</th>\n",
              "      <td>this new jangle of noise , mayhem and stupidit...</td>\n",
              "      <td>0</td>\n",
              "    </tr>\n",
              "  </tbody>\n",
              "</table>\n",
              "<p>67349 rows × 2 columns</p>\n",
              "</div>\n",
              "      <button class=\"colab-df-convert\" onclick=\"convertToInteractive('df-7ef19113-4df7-4a19-8525-3e7c03527bc3')\"\n",
              "              title=\"Convert this dataframe to an interactive table.\"\n",
              "              style=\"display:none;\">\n",
              "        \n",
              "  <svg xmlns=\"http://www.w3.org/2000/svg\" height=\"24px\"viewBox=\"0 0 24 24\"\n",
              "       width=\"24px\">\n",
              "    <path d=\"M0 0h24v24H0V0z\" fill=\"none\"/>\n",
              "    <path d=\"M18.56 5.44l.94 2.06.94-2.06 2.06-.94-2.06-.94-.94-2.06-.94 2.06-2.06.94zm-11 1L8.5 8.5l.94-2.06 2.06-.94-2.06-.94L8.5 2.5l-.94 2.06-2.06.94zm10 10l.94 2.06.94-2.06 2.06-.94-2.06-.94-.94-2.06-.94 2.06-2.06.94z\"/><path d=\"M17.41 7.96l-1.37-1.37c-.4-.4-.92-.59-1.43-.59-.52 0-1.04.2-1.43.59L10.3 9.45l-7.72 7.72c-.78.78-.78 2.05 0 2.83L4 21.41c.39.39.9.59 1.41.59.51 0 1.02-.2 1.41-.59l7.78-7.78 2.81-2.81c.8-.78.8-2.07 0-2.86zM5.41 20L4 18.59l7.72-7.72 1.47 1.35L5.41 20z\"/>\n",
              "  </svg>\n",
              "      </button>\n",
              "      \n",
              "  <style>\n",
              "    .colab-df-container {\n",
              "      display:flex;\n",
              "      flex-wrap:wrap;\n",
              "      gap: 12px;\n",
              "    }\n",
              "\n",
              "    .colab-df-convert {\n",
              "      background-color: #E8F0FE;\n",
              "      border: none;\n",
              "      border-radius: 50%;\n",
              "      cursor: pointer;\n",
              "      display: none;\n",
              "      fill: #1967D2;\n",
              "      height: 32px;\n",
              "      padding: 0 0 0 0;\n",
              "      width: 32px;\n",
              "    }\n",
              "\n",
              "    .colab-df-convert:hover {\n",
              "      background-color: #E2EBFA;\n",
              "      box-shadow: 0px 1px 2px rgba(60, 64, 67, 0.3), 0px 1px 3px 1px rgba(60, 64, 67, 0.15);\n",
              "      fill: #174EA6;\n",
              "    }\n",
              "\n",
              "    [theme=dark] .colab-df-convert {\n",
              "      background-color: #3B4455;\n",
              "      fill: #D2E3FC;\n",
              "    }\n",
              "\n",
              "    [theme=dark] .colab-df-convert:hover {\n",
              "      background-color: #434B5C;\n",
              "      box-shadow: 0px 1px 3px 1px rgba(0, 0, 0, 0.15);\n",
              "      filter: drop-shadow(0px 1px 2px rgba(0, 0, 0, 0.3));\n",
              "      fill: #FFFFFF;\n",
              "    }\n",
              "  </style>\n",
              "\n",
              "      <script>\n",
              "        const buttonEl =\n",
              "          document.querySelector('#df-7ef19113-4df7-4a19-8525-3e7c03527bc3 button.colab-df-convert');\n",
              "        buttonEl.style.display =\n",
              "          google.colab.kernel.accessAllowed ? 'block' : 'none';\n",
              "\n",
              "        async function convertToInteractive(key) {\n",
              "          const element = document.querySelector('#df-7ef19113-4df7-4a19-8525-3e7c03527bc3');\n",
              "          const dataTable =\n",
              "            await google.colab.kernel.invokeFunction('convertToInteractive',\n",
              "                                                     [key], {});\n",
              "          if (!dataTable) return;\n",
              "\n",
              "          const docLinkHtml = 'Like what you see? Visit the ' +\n",
              "            '<a target=\"_blank\" href=https://colab.research.google.com/notebooks/data_table.ipynb>data table notebook</a>'\n",
              "            + ' to learn more about interactive tables.';\n",
              "          element.innerHTML = '';\n",
              "          dataTable['output_type'] = 'display_data';\n",
              "          await google.colab.output.renderOutput(dataTable, element);\n",
              "          const docLink = document.createElement('div');\n",
              "          docLink.innerHTML = docLinkHtml;\n",
              "          element.appendChild(docLink);\n",
              "        }\n",
              "      </script>\n",
              "    </div>\n",
              "  </div>\n",
              "  "
            ]
          },
          "metadata": {},
          "execution_count": 33
        }
      ]
    },
    {
      "cell_type": "code",
      "source": [
        "test_data"
      ],
      "metadata": {
        "colab": {
          "base_uri": "https://localhost:8080/",
          "height": 424
        },
        "id": "1UW0qMhmSPfo",
        "outputId": "fe374eaa-1f1a-40b9-dc14-fc506bd1ecf8"
      },
      "execution_count": 34,
      "outputs": [
        {
          "output_type": "execute_result",
          "data": {
            "text/plain": [
              "      index                                           sentence\n",
              "0         0             uneasy mishmash of styles and genres .\n",
              "1         1  this film 's relationship to actual tension is...\n",
              "2         2  by the end of no such thing the audience , lik...\n",
              "3         3  director rob marshall went out gunning to make...\n",
              "4         4  lathan and diggs have considerable personal ch...\n",
              "...     ...                                                ...\n",
              "1816   1816  it risks seeming slow and pretentious , becaus...\n",
              "1817   1817  take care of my cat offers a refreshingly diff...\n",
              "1818   1818  davis has filled out his cast with appealing f...\n",
              "1819   1819  it represents better-than-average movie-making...\n",
              "1820   1820  dazzling and sugar-sweet , a blast of shallow ...\n",
              "\n",
              "[1821 rows x 2 columns]"
            ],
            "text/html": [
              "\n",
              "  <div id=\"df-6adaf7ca-e50e-4184-83a8-d6c5ef356b86\">\n",
              "    <div class=\"colab-df-container\">\n",
              "      <div>\n",
              "<style scoped>\n",
              "    .dataframe tbody tr th:only-of-type {\n",
              "        vertical-align: middle;\n",
              "    }\n",
              "\n",
              "    .dataframe tbody tr th {\n",
              "        vertical-align: top;\n",
              "    }\n",
              "\n",
              "    .dataframe thead th {\n",
              "        text-align: right;\n",
              "    }\n",
              "</style>\n",
              "<table border=\"1\" class=\"dataframe\">\n",
              "  <thead>\n",
              "    <tr style=\"text-align: right;\">\n",
              "      <th></th>\n",
              "      <th>index</th>\n",
              "      <th>sentence</th>\n",
              "    </tr>\n",
              "  </thead>\n",
              "  <tbody>\n",
              "    <tr>\n",
              "      <th>0</th>\n",
              "      <td>0</td>\n",
              "      <td>uneasy mishmash of styles and genres .</td>\n",
              "    </tr>\n",
              "    <tr>\n",
              "      <th>1</th>\n",
              "      <td>1</td>\n",
              "      <td>this film 's relationship to actual tension is...</td>\n",
              "    </tr>\n",
              "    <tr>\n",
              "      <th>2</th>\n",
              "      <td>2</td>\n",
              "      <td>by the end of no such thing the audience , lik...</td>\n",
              "    </tr>\n",
              "    <tr>\n",
              "      <th>3</th>\n",
              "      <td>3</td>\n",
              "      <td>director rob marshall went out gunning to make...</td>\n",
              "    </tr>\n",
              "    <tr>\n",
              "      <th>4</th>\n",
              "      <td>4</td>\n",
              "      <td>lathan and diggs have considerable personal ch...</td>\n",
              "    </tr>\n",
              "    <tr>\n",
              "      <th>...</th>\n",
              "      <td>...</td>\n",
              "      <td>...</td>\n",
              "    </tr>\n",
              "    <tr>\n",
              "      <th>1816</th>\n",
              "      <td>1816</td>\n",
              "      <td>it risks seeming slow and pretentious , becaus...</td>\n",
              "    </tr>\n",
              "    <tr>\n",
              "      <th>1817</th>\n",
              "      <td>1817</td>\n",
              "      <td>take care of my cat offers a refreshingly diff...</td>\n",
              "    </tr>\n",
              "    <tr>\n",
              "      <th>1818</th>\n",
              "      <td>1818</td>\n",
              "      <td>davis has filled out his cast with appealing f...</td>\n",
              "    </tr>\n",
              "    <tr>\n",
              "      <th>1819</th>\n",
              "      <td>1819</td>\n",
              "      <td>it represents better-than-average movie-making...</td>\n",
              "    </tr>\n",
              "    <tr>\n",
              "      <th>1820</th>\n",
              "      <td>1820</td>\n",
              "      <td>dazzling and sugar-sweet , a blast of shallow ...</td>\n",
              "    </tr>\n",
              "  </tbody>\n",
              "</table>\n",
              "<p>1821 rows × 2 columns</p>\n",
              "</div>\n",
              "      <button class=\"colab-df-convert\" onclick=\"convertToInteractive('df-6adaf7ca-e50e-4184-83a8-d6c5ef356b86')\"\n",
              "              title=\"Convert this dataframe to an interactive table.\"\n",
              "              style=\"display:none;\">\n",
              "        \n",
              "  <svg xmlns=\"http://www.w3.org/2000/svg\" height=\"24px\"viewBox=\"0 0 24 24\"\n",
              "       width=\"24px\">\n",
              "    <path d=\"M0 0h24v24H0V0z\" fill=\"none\"/>\n",
              "    <path d=\"M18.56 5.44l.94 2.06.94-2.06 2.06-.94-2.06-.94-.94-2.06-.94 2.06-2.06.94zm-11 1L8.5 8.5l.94-2.06 2.06-.94-2.06-.94L8.5 2.5l-.94 2.06-2.06.94zm10 10l.94 2.06.94-2.06 2.06-.94-2.06-.94-.94-2.06-.94 2.06-2.06.94z\"/><path d=\"M17.41 7.96l-1.37-1.37c-.4-.4-.92-.59-1.43-.59-.52 0-1.04.2-1.43.59L10.3 9.45l-7.72 7.72c-.78.78-.78 2.05 0 2.83L4 21.41c.39.39.9.59 1.41.59.51 0 1.02-.2 1.41-.59l7.78-7.78 2.81-2.81c.8-.78.8-2.07 0-2.86zM5.41 20L4 18.59l7.72-7.72 1.47 1.35L5.41 20z\"/>\n",
              "  </svg>\n",
              "      </button>\n",
              "      \n",
              "  <style>\n",
              "    .colab-df-container {\n",
              "      display:flex;\n",
              "      flex-wrap:wrap;\n",
              "      gap: 12px;\n",
              "    }\n",
              "\n",
              "    .colab-df-convert {\n",
              "      background-color: #E8F0FE;\n",
              "      border: none;\n",
              "      border-radius: 50%;\n",
              "      cursor: pointer;\n",
              "      display: none;\n",
              "      fill: #1967D2;\n",
              "      height: 32px;\n",
              "      padding: 0 0 0 0;\n",
              "      width: 32px;\n",
              "    }\n",
              "\n",
              "    .colab-df-convert:hover {\n",
              "      background-color: #E2EBFA;\n",
              "      box-shadow: 0px 1px 2px rgba(60, 64, 67, 0.3), 0px 1px 3px 1px rgba(60, 64, 67, 0.15);\n",
              "      fill: #174EA6;\n",
              "    }\n",
              "\n",
              "    [theme=dark] .colab-df-convert {\n",
              "      background-color: #3B4455;\n",
              "      fill: #D2E3FC;\n",
              "    }\n",
              "\n",
              "    [theme=dark] .colab-df-convert:hover {\n",
              "      background-color: #434B5C;\n",
              "      box-shadow: 0px 1px 3px 1px rgba(0, 0, 0, 0.15);\n",
              "      filter: drop-shadow(0px 1px 2px rgba(0, 0, 0, 0.3));\n",
              "      fill: #FFFFFF;\n",
              "    }\n",
              "  </style>\n",
              "\n",
              "      <script>\n",
              "        const buttonEl =\n",
              "          document.querySelector('#df-6adaf7ca-e50e-4184-83a8-d6c5ef356b86 button.colab-df-convert');\n",
              "        buttonEl.style.display =\n",
              "          google.colab.kernel.accessAllowed ? 'block' : 'none';\n",
              "\n",
              "        async function convertToInteractive(key) {\n",
              "          const element = document.querySelector('#df-6adaf7ca-e50e-4184-83a8-d6c5ef356b86');\n",
              "          const dataTable =\n",
              "            await google.colab.kernel.invokeFunction('convertToInteractive',\n",
              "                                                     [key], {});\n",
              "          if (!dataTable) return;\n",
              "\n",
              "          const docLinkHtml = 'Like what you see? Visit the ' +\n",
              "            '<a target=\"_blank\" href=https://colab.research.google.com/notebooks/data_table.ipynb>data table notebook</a>'\n",
              "            + ' to learn more about interactive tables.';\n",
              "          element.innerHTML = '';\n",
              "          dataTable['output_type'] = 'display_data';\n",
              "          await google.colab.output.renderOutput(dataTable, element);\n",
              "          const docLink = document.createElement('div');\n",
              "          docLink.innerHTML = docLinkHtml;\n",
              "          element.appendChild(docLink);\n",
              "        }\n",
              "      </script>\n",
              "    </div>\n",
              "  </div>\n",
              "  "
            ]
          },
          "metadata": {},
          "execution_count": 34
        }
      ]
    },
    {
      "cell_type": "code",
      "source": [
        "tokenizer = tf.keras.preprocessing.text.Tokenizer(oov_token=\"<UNK>\")\n",
        "tokenizer.fit_on_texts(train_data.sentence)\n",
        "len(tokenizer.index_word)"
      ],
      "metadata": {
        "colab": {
          "base_uri": "https://localhost:8080/"
        },
        "id": "loILZc-RTRbo",
        "outputId": "7972be6e-a452-4b18-ddad-184e7a8c3c76"
      },
      "execution_count": 35,
      "outputs": [
        {
          "output_type": "execute_result",
          "data": {
            "text/plain": [
              "13823"
            ]
          },
          "metadata": {},
          "execution_count": 35
        }
      ]
    },
    {
      "cell_type": "markdown",
      "source": [
        "Okay, so our dataset for training has 67349 sentences. And 13823 unique words. Thats a lot more than the previous dataset.\n",
        "\n",
        "We will now split the training data into validation and training. "
      ],
      "metadata": {
        "id": "o9QK7kelUuAe"
      }
    },
    {
      "cell_type": "code",
      "source": [
        "from sklearn.model_selection import train_test_split\n",
        "\n",
        "x_train, x_valid, y_train, y_valid = train_test_split(train_data.sentence, train_data.label, random_state=42, test_size=.2)"
      ],
      "metadata": {
        "id": "vebShqa2VWDv"
      },
      "execution_count": 36,
      "outputs": []
    },
    {
      "cell_type": "code",
      "source": [
        "x_train.shape, x_valid.shape, y_train.shape, y_valid.shape"
      ],
      "metadata": {
        "colab": {
          "base_uri": "https://localhost:8080/"
        },
        "id": "bZa5MftCWslt",
        "outputId": "57485c9c-4f30-4d49-b451-0cde5b1025d1"
      },
      "execution_count": 37,
      "outputs": [
        {
          "output_type": "execute_result",
          "data": {
            "text/plain": [
              "((53879,), (13470,), (53879,), (13470,))"
            ]
          },
          "metadata": {},
          "execution_count": 37
        }
      ]
    },
    {
      "cell_type": "markdown",
      "source": [
        "### Why do we split train/valid first ?\n",
        "\n",
        "We splited first because we want to fit our tokenizer only in the training data to our validation set be as unknown as our test set.\n",
        "When we decide our final model we'll train it on our full train_dataset."
      ],
      "metadata": {
        "id": "qzdU4_BLW_GB"
      }
    },
    {
      "cell_type": "code",
      "source": [
        "tokenizer = tf.keras.preprocessing.text.Tokenizer(oov_token=\"<UNK>\")\n",
        "tokenizer.fit_on_texts(x_train)\n",
        "len(tokenizer.index_word)"
      ],
      "metadata": {
        "colab": {
          "base_uri": "https://localhost:8080/"
        },
        "id": "gB0JPXljYIb-",
        "outputId": "a3fe50a0-de7c-4f25-878d-90a5efc302dc"
      },
      "execution_count": 38,
      "outputs": [
        {
          "output_type": "execute_result",
          "data": {
            "text/plain": [
              "13704"
            ]
          },
          "metadata": {},
          "execution_count": 38
        }
      ]
    },
    {
      "cell_type": "code",
      "source": [
        "x_train_seq = tokenizer.texts_to_sequences(x_train)\n",
        "x_train_pad = tf.keras.preprocessing.sequence.pad_sequences(x_train_seq)\n",
        "x_train_pad.shape"
      ],
      "metadata": {
        "colab": {
          "base_uri": "https://localhost:8080/"
        },
        "id": "R5o8OqyKYOji",
        "outputId": "b918d8fc-fecf-4435-e89d-9cb10b086119"
      },
      "execution_count": 39,
      "outputs": [
        {
          "output_type": "execute_result",
          "data": {
            "text/plain": [
              "(53879, 49)"
            ]
          },
          "metadata": {},
          "execution_count": 39
        }
      ]
    },
    {
      "cell_type": "markdown",
      "source": [
        "So our max length in our x_train was 49. We Will use that to garantee that out x_valid_pad has the same length"
      ],
      "metadata": {
        "id": "sq1T3DvrY25a"
      }
    },
    {
      "cell_type": "code",
      "source": [
        "x_valid_seq = tokenizer.texts_to_sequences(x_valid)\n",
        "x_valid_pad = tf.keras.preprocessing.sequence.pad_sequences(x_valid_seq, maxlen=x_train_pad.shape[1])\n",
        "x_valid_pad.shape"
      ],
      "metadata": {
        "colab": {
          "base_uri": "https://localhost:8080/"
        },
        "id": "ezscPQuLY1Dq",
        "outputId": "8031e223-42bc-4bcd-da00-0956f719e7a2"
      },
      "execution_count": 40,
      "outputs": [
        {
          "output_type": "execute_result",
          "data": {
            "text/plain": [
              "(13470, 49)"
            ]
          },
          "metadata": {},
          "execution_count": 40
        }
      ]
    },
    {
      "cell_type": "code",
      "source": [
        "model = tf.keras.models.Sequential([\n",
        "        tf.keras.layers.Embedding(len(tokenizer.word_index)+1,64,input_length=x_train_pad.shape[1]),\n",
        "        tf.keras.layers.SimpleRNN(64),\n",
        "        tf.keras.layers.Dense(1, activation=\"sigmoid\")\n",
        "])\n",
        "\n",
        "model.compile(optimizer=\"adam\", loss=\"binary_crossentropy\", metrics=[\"accuracy\"])\n",
        "stop = tf.keras.callbacks.EarlyStopping(patience = 5)\n",
        "best = tf.keras.callbacks.ModelCheckpoint(\"best.h5\", save_only_best=True)\n",
        "batch_size=64\n",
        "log = model.fit(x=x_train_pad, y=y_train,validation_data=(x_valid_pad, y_valid), epochs=10, callbacks=[stop, best], batch_size=batch_size, steps_per_epoch=math.ceil(x_train_pad.shape[0]/batch_size), validation_steps=math.ceil(x_valid_pad.shape[0]/batch_size))\n",
        "plot_training()"
      ],
      "metadata": {
        "colab": {
          "base_uri": "https://localhost:8080/",
          "height": 638
        },
        "id": "8mcfBdZBZTiV",
        "outputId": "b3ea7229-85e0-414f-a1cf-502d21934f85"
      },
      "execution_count": 41,
      "outputs": [
        {
          "output_type": "stream",
          "name": "stdout",
          "text": [
            "Epoch 1/10\n",
            "842/842 [==============================] - 73s 85ms/step - loss: 0.3872 - accuracy: 0.8191 - val_loss: 0.2596 - val_accuracy: 0.9019\n",
            "Epoch 2/10\n",
            "842/842 [==============================] - 58s 69ms/step - loss: 0.1817 - accuracy: 0.9349 - val_loss: 0.2577 - val_accuracy: 0.9079\n",
            "Epoch 3/10\n",
            "842/842 [==============================] - 58s 69ms/step - loss: 0.1306 - accuracy: 0.9550 - val_loss: 0.2617 - val_accuracy: 0.9108\n",
            "Epoch 4/10\n",
            "842/842 [==============================] - 58s 69ms/step - loss: 0.1037 - accuracy: 0.9654 - val_loss: 0.2757 - val_accuracy: 0.9077\n",
            "Epoch 5/10\n",
            "842/842 [==============================] - 58s 69ms/step - loss: 0.0883 - accuracy: 0.9702 - val_loss: 0.2802 - val_accuracy: 0.9131\n",
            "Epoch 6/10\n",
            "842/842 [==============================] - 57s 68ms/step - loss: 0.0754 - accuracy: 0.9735 - val_loss: 0.2837 - val_accuracy: 0.9111\n",
            "Epoch 7/10\n",
            "842/842 [==============================] - 94s 112ms/step - loss: 0.0699 - accuracy: 0.9759 - val_loss: 0.2984 - val_accuracy: 0.9138\n"
          ]
        },
        {
          "output_type": "display_data",
          "data": {
            "text/plain": [
              "<Figure size 720x432 with 2 Axes>"
            ],
            "image/png": "[encoded data removed]"
          },
          "metadata": {
            "needs_background": "light"
          }
        }
      ]
    },
    {
      "cell_type": "markdown",
      "source": [
        "### Comparisons \n",
        "\n",
        "#### The model trained on SST2 vs the small dataset."
      ],
      "metadata": {
        "id": "RccMw0x5WJOE"
      }
    },
    {
      "cell_type": "code",
      "source": [
        "x_valid_seq = tokenizer.texts_to_sequences(small_dataset.text.to_numpy())\n",
        "x_valid_pad = tf.keras.preprocessing.sequence.pad_sequences(x_valid_seq, maxlen=x_train_pad.shape[1])\n",
        "x_valid_pad.shape\n",
        "\n",
        "model.evaluate(x= x_valid_pad, y=small_dataset.sentiment.to_numpy())"
      ],
      "metadata": {
        "id": "KL9j0YFMaC_l",
        "colab": {
          "base_uri": "https://localhost:8080/"
        },
        "outputId": "535aed2f-795d-42e0-ea45-8ef5328b8138"
      },
      "execution_count": 43,
      "outputs": [
        {
          "output_type": "stream",
          "name": "stdout",
          "text": [
            "63/63 [==============================] - 2s 21ms/step - loss: 0.7778 - accuracy: 0.7686\n"
          ]
        },
        {
          "output_type": "execute_result",
          "data": {
            "text/plain": [
              "[0.7777805328369141, 0.7685742974281311]"
            ]
          },
          "metadata": {},
          "execution_count": 43
        }
      ]
    },
    {
      "cell_type": "markdown",
      "source": [
        "#### The small dataset only\n",
        "\n",
        "Just to remember that it's overffited. Now we will prove it"
      ],
      "metadata": {
        "id": "AaK2lManWS8H"
      }
    },
    {
      "cell_type": "code",
      "source": [
        "x_valid_seq = small_tokenizer.texts_to_sequences(small_dataset.text.to_numpy())\n",
        "x_valid_pad = tf.keras.preprocessing.sequence.pad_sequences(x_valid_seq, maxlen=small_padded.shape[1])\n",
        "x_valid_pad.shape\n",
        "small_model.evaluate(x= x_valid_pad, y=small_dataset.sentiment.to_numpy())"
      ],
      "metadata": {
        "colab": {
          "base_uri": "https://localhost:8080/"
        },
        "id": "6KNoICL3Vk6L",
        "outputId": "5061a6f1-26db-4331-dece-54835d9f348b"
      },
      "execution_count": 47,
      "outputs": [
        {
          "output_type": "stream",
          "name": "stdout",
          "text": [
            "63/63 [==============================] - 2s 34ms/step - loss: 0.0151 - accuracy: 0.9980\n"
          ]
        },
        {
          "output_type": "execute_result",
          "data": {
            "text/plain": [
              "[0.015133506618440151, 0.9979919791221619]"
            ]
          },
          "metadata": {},
          "execution_count": 47
        }
      ]
    },
    {
      "cell_type": "markdown",
      "source": [
        "#### The small model vs the SST2 dataset"
      ],
      "metadata": {
        "id": "iqM6qsxuWmkD"
      }
    },
    {
      "cell_type": "code",
      "source": [
        "x_valid_seq = small_tokenizer.texts_to_sequences(x_valid.to_numpy())\n",
        "x_valid_pad = tf.keras.preprocessing.sequence.pad_sequences(x_valid_seq, maxlen=small_padded.shape[1])\n",
        "x_valid_pad.shape\n",
        "small_model.evaluate(x= x_valid_pad, y=y_valid.to_numpy())"
      ],
      "metadata": {
        "colab": {
          "base_uri": "https://localhost:8080/"
        },
        "id": "9SHSAcEPV2A0",
        "outputId": "54191aa9-1744-4a29-c699-6a762e6f0342"
      },
      "execution_count": 49,
      "outputs": [
        {
          "output_type": "stream",
          "name": "stdout",
          "text": [
            "421/421 [==============================] - 7s 17ms/step - loss: 0.9396 - accuracy: 0.5889\n"
          ]
        },
        {
          "output_type": "execute_result",
          "data": {
            "text/plain": [
              "[0.9396033883094788, 0.5888641476631165]"
            ]
          },
          "metadata": {},
          "execution_count": 49
        }
      ]
    },
    {
      "cell_type": "markdown",
      "source": [
        "We can see that we achieve an accuracy of 58%. For a two-class problem, this is bad. Very bad. So our model trained in the SST2 dataset perform better in unkown data than the small model"
      ],
      "metadata": {
        "id": "MMNAlowfWgE7"
      }
    },
    {
      "cell_type": "markdown",
      "source": [
        "### Lets try to use LSTM"
      ],
      "metadata": {
        "id": "eLxqyrH6XWcU"
      }
    },
    {
      "cell_type": "code",
      "source": [
        "x_valid_seq = tokenizer.texts_to_sequences(x_valid)\n",
        "x_valid_pad = tf.keras.preprocessing.sequence.pad_sequences(x_valid_seq, maxlen=x_train_pad.shape[1])\n",
        "x_valid_pad.shape\n",
        "\n",
        "model = tf.keras.models.Sequential([\n",
        "        tf.keras.layers.Embedding(len(tokenizer.word_index)+1,64,input_length=x_train_pad.shape[1]),\n",
        "        tf.keras.layers.Bidirectional(tf.keras.layers.LSTM(64)),\n",
        "        tf.keras.layers.Dense(1, activation=\"sigmoid\")\n",
        "])\n",
        "\n",
        "model.compile(optimizer=\"adam\", loss=\"binary_crossentropy\", metrics=[\"accuracy\"])\n",
        "stop = tf.keras.callbacks.EarlyStopping(patience = 5)\n",
        "best = tf.keras.callbacks.ModelCheckpoint(\"best.h5\", save_only_best=True)\n",
        "batch_size=64\n",
        "log = model.fit(x=x_train_pad, y=y_train,validation_data=(x_valid_pad, y_valid), epochs=10, callbacks=[stop, best], batch_size=batch_size, steps_per_epoch=math.ceil(x_train_pad.shape[0]/batch_size), validation_steps=math.ceil(x_valid_pad.shape[0]/batch_size))\n",
        "plot_training()"
      ],
      "metadata": {
        "colab": {
          "base_uri": "https://localhost:8080/",
          "height": 637
        },
        "id": "XAZWdG_pXY7-",
        "outputId": "3ea27727-6064-4f2a-b055-640429b22b42"
      },
      "execution_count": 50,
      "outputs": [
        {
          "output_type": "stream",
          "name": "stdout",
          "text": [
            "Epoch 1/10\n",
            "842/842 [==============================] - 33s 31ms/step - loss: 0.3682 - accuracy: 0.8305 - val_loss: 0.2630 - val_accuracy: 0.8950\n",
            "Epoch 2/10\n",
            "842/842 [==============================] - 25s 29ms/step - loss: 0.1943 - accuracy: 0.9255 - val_loss: 0.2402 - val_accuracy: 0.9110\n",
            "Epoch 3/10\n",
            "842/842 [==============================] - 25s 29ms/step - loss: 0.1389 - accuracy: 0.9486 - val_loss: 0.2490 - val_accuracy: 0.9139\n",
            "Epoch 4/10\n",
            "842/842 [==============================] - 25s 30ms/step - loss: 0.1073 - accuracy: 0.9602 - val_loss: 0.2464 - val_accuracy: 0.9201\n",
            "Epoch 5/10\n",
            "842/842 [==============================] - 25s 29ms/step - loss: 0.0851 - accuracy: 0.9666 - val_loss: 0.2871 - val_accuracy: 0.9209\n",
            "Epoch 6/10\n",
            "842/842 [==============================] - 25s 29ms/step - loss: 0.0693 - accuracy: 0.9719 - val_loss: 0.2983 - val_accuracy: 0.9229\n",
            "Epoch 7/10\n",
            "842/842 [==============================] - 25s 29ms/step - loss: 0.0575 - accuracy: 0.9760 - val_loss: 0.3139 - val_accuracy: 0.9232\n"
          ]
        },
        {
          "output_type": "display_data",
          "data": {
            "text/plain": [
              "<Figure size 720x432 with 2 Axes>"
            ],
            "image/png": "[encoded data removed]"
          },
          "metadata": {
            "needs_background": "light"
          }
        }
      ]
    },
    {
      "cell_type": "code",
      "source": [
        "x_valid_seq = tokenizer.texts_to_sequences(small_dataset.text.to_numpy())\n",
        "x_valid_pad = tf.keras.preprocessing.sequence.pad_sequences(x_valid_seq, maxlen=x_train_pad.shape[1])\n",
        "x_valid_pad.shape\n",
        "\n",
        "model.evaluate(x= x_valid_pad, y=small_dataset.sentiment.to_numpy())"
      ],
      "metadata": {
        "colab": {
          "base_uri": "https://localhost:8080/"
        },
        "id": "75YXCUwaXlP5",
        "outputId": "734da307-d53a-4de2-ccd9-19ba962fb4fa"
      },
      "execution_count": 51,
      "outputs": [
        {
          "output_type": "stream",
          "name": "stdout",
          "text": [
            "63/63 [==============================] - 2s 12ms/step - loss: 0.7021 - accuracy: 0.7902\n"
          ]
        },
        {
          "output_type": "execute_result",
          "data": {
            "text/plain": [
              "[0.7021204233169556, 0.7901606559753418]"
            ]
          },
          "metadata": {},
          "execution_count": 51
        }
      ]
    },
    {
      "cell_type": "markdown",
      "source": [
        "When using LSTM we achieved an accuracy of 79% on unknown data, which is way better than 76%."
      ],
      "metadata": {
        "id": "adlvsmq5Yqmp"
      }
    },
    {
      "cell_type": "code",
      "source": [
        "stopwords = pd.read_csv(\"https://raw.githubusercontent.com/Alir3z4/stop-words/master/english.txt\", header=None)\n",
        "stopwords[0]"
      ],
      "metadata": {
        "colab": {
          "base_uri": "https://localhost:8080/"
        },
        "id": "suoFQZSyZjsD",
        "outputId": "8a1c4f42-545b-40ee-c4b9-0542d38e54a7"
      },
      "execution_count": 55,
      "outputs": [
        {
          "output_type": "execute_result",
          "data": {
            "text/plain": [
              "0         'll\n",
              "1        'tis\n",
              "2       'twas\n",
              "3         've\n",
              "4          10\n",
              "        ...  \n",
              "1293        z\n",
              "1294       za\n",
              "1295     zero\n",
              "1296       zm\n",
              "1297       zr\n",
              "Name: 0, Length: 1298, dtype: object"
            ]
          },
          "metadata": {},
          "execution_count": 55
        }
      ]
    },
    {
      "cell_type": "code",
      "source": [
        "'i' in set(stopwords[0])"
      ],
      "metadata": {
        "colab": {
          "base_uri": "https://localhost:8080/"
        },
        "id": "drLEXRQlbP_u",
        "outputId": "edc8e696-35c8-4adf-fb37-648ebeec0c1f"
      },
      "execution_count": 59,
      "outputs": [
        {
          "output_type": "execute_result",
          "data": {
            "text/plain": [
              "True"
            ]
          },
          "metadata": {},
          "execution_count": 59
        }
      ]
    },
    {
      "cell_type": "code",
      "source": [
        "def remove_stopwords(word):\n",
        "  word_array = word.split(' ')\n",
        "  return \" \".join([w.lower() for w in word_array if w.lower() not in set(stopwords[0])])\n",
        "\n",
        "x_train_nostopwords = x_train.map(remove_stopwords)\n",
        "x_train_nostopwords"
      ],
      "metadata": {
        "colab": {
          "base_uri": "https://localhost:8080/"
        },
        "id": "9wnOWIEiandV",
        "outputId": "ab2f85d9-8ebe-412b-c5e1-eb62dd782ea6"
      },
      "execution_count": 75,
      "outputs": [
        {
          "output_type": "execute_result",
          "data": {
            "text/plain": [
              "65374    lacks inspiration original bloated plot stretc...\n",
              "14599                film freshness , imagination insight \n",
              "46387                                alienating involving \n",
              "27872    creative animation ` rendered ' pixar 's indus...\n",
              "40668                       winning , heartwarming yarn . \n",
              "                               ...                        \n",
              "37194                              provocative conclusion \n",
              "6265         action film disguised war tribute disgusting \n",
              "54886                   absurd lengths duck issues raises \n",
              "860                                   perfect performance \n",
              "15795                              constantly pulling rug \n",
              "Name: sentence, Length: 53879, dtype: object"
            ]
          },
          "metadata": {},
          "execution_count": 75
        }
      ]
    },
    {
      "cell_type": "code",
      "source": [
        "x_valid_nostopwords = x_valid.map(remove_stopwords)\n",
        "x_valid_nostopwords"
      ],
      "metadata": {
        "colab": {
          "base_uri": "https://localhost:8080/"
        },
        "id": "4gallJR_cUz8",
        "outputId": "d25f138b-6ac7-41e2-9075-b16ab0df49ad"
      },
      "execution_count": 62,
      "outputs": [
        {
          "output_type": "execute_result",
          "data": {
            "text/plain": [
              "66730    outtakes characters forget lines utter ` uhhh ...\n",
              "29890                                    enigma well-made \n",
              "45801    ) stoked film human infidelity happenstance to...\n",
              "29352                     closest experience space travel \n",
              "19858                                         lose luster \n",
              "                               ...                        \n",
              "34702                                          nice album \n",
              "23754                                                     \n",
              "58408                                                 n't \n",
              "5637      beautifully movie sacrificing integrity opera . \n",
              "26351    love overinflated mythology recognizes moviego...\n",
              "Name: sentence, Length: 13470, dtype: object"
            ]
          },
          "metadata": {},
          "execution_count": 62
        }
      ]
    },
    {
      "cell_type": "code",
      "source": [
        "tokenizer = tf.keras.preprocessing.text.Tokenizer(oov_token=\"<UNK>\")\n",
        "tokenizer.fit_on_texts(x_train_nostopwords)\n",
        "len(tokenizer.index_word)"
      ],
      "metadata": {
        "colab": {
          "base_uri": "https://localhost:8080/"
        },
        "id": "G3UQHCADZnNP",
        "outputId": "3d89b626-966a-4107-aa60-3516e604c7ec"
      },
      "execution_count": 63,
      "outputs": [
        {
          "output_type": "execute_result",
          "data": {
            "text/plain": [
              "13193"
            ]
          },
          "metadata": {},
          "execution_count": 63
        }
      ]
    },
    {
      "cell_type": "code",
      "source": [
        "x_train_seq = tokenizer.texts_to_sequences(x_train_nostopwords)\n",
        "x_train_pad = tf.keras.preprocessing.sequence.pad_sequences(x_train_seq)\n",
        "x_train_pad.shape"
      ],
      "metadata": {
        "colab": {
          "base_uri": "https://localhost:8080/"
        },
        "id": "RxcNTry9Z_f3",
        "outputId": "07dde6c5-0431-4b28-cf6b-c1dd051202e8"
      },
      "execution_count": 64,
      "outputs": [
        {
          "output_type": "execute_result",
          "data": {
            "text/plain": [
              "(53879, 28)"
            ]
          },
          "metadata": {},
          "execution_count": 64
        }
      ]
    },
    {
      "cell_type": "code",
      "source": [
        "x_valid_seq = tokenizer.texts_to_sequences(x_valid_nostopwords)\n",
        "x_valid_pad = tf.keras.preprocessing.sequence.pad_sequences(x_valid_seq, maxlen=x_train_pad.shape[1])\n",
        "x_valid_pad.shape"
      ],
      "metadata": {
        "colab": {
          "base_uri": "https://localhost:8080/"
        },
        "id": "fqs1TskAZ_JA",
        "outputId": "83817d0e-d357-4dda-f052-9f2bfef0f0b1"
      },
      "execution_count": 65,
      "outputs": [
        {
          "output_type": "execute_result",
          "data": {
            "text/plain": [
              "(13470, 28)"
            ]
          },
          "metadata": {},
          "execution_count": 65
        }
      ]
    },
    {
      "cell_type": "markdown",
      "source": [
        "We can see that using remove_stopwords we removed a lot of dimentionality. We now are working with 28 columns. "
      ],
      "metadata": {
        "id": "kbqxp92wcjXE"
      }
    },
    {
      "cell_type": "code",
      "source": [
        "model = tf.keras.models.Sequential([\n",
        "        tf.keras.layers.Embedding(len(tokenizer.word_index)+1,64,input_length=x_train_pad.shape[1]),\n",
        "        tf.keras.layers.Bidirectional(tf.keras.layers.LSTM(64)),\n",
        "        tf.keras.layers.Dense(1, activation=\"sigmoid\")\n",
        "])\n",
        "\n",
        "model.compile(optimizer=\"adam\", loss=\"binary_crossentropy\", metrics=[\"accuracy\"])\n",
        "stop = tf.keras.callbacks.EarlyStopping(patience = 5)\n",
        "best = tf.keras.callbacks.ModelCheckpoint(\"best.h5\", save_only_best=True)\n",
        "batch_size=64\n",
        "log = model.fit(x=x_train_pad, y=y_train,validation_data=(x_valid_pad, y_valid), epochs=10, callbacks=[stop, best], batch_size=batch_size, steps_per_epoch=math.ceil(x_train_pad.shape[0]/batch_size), validation_steps=math.ceil(x_valid_pad.shape[0]/batch_size))\n",
        "plot_training()"
      ],
      "metadata": {
        "colab": {
          "base_uri": "https://localhost:8080/",
          "height": 706
        },
        "id": "TclKeG66crhc",
        "outputId": "8eeb1fd5-44b8-4772-f7bb-72dd83409ed1"
      },
      "execution_count": 66,
      "outputs": [
        {
          "output_type": "stream",
          "name": "stdout",
          "text": [
            "Epoch 1/10\n",
            "842/842 [==============================] - 23s 23ms/step - loss: 0.3948 - accuracy: 0.8179 - val_loss: 0.2904 - val_accuracy: 0.8817\n",
            "Epoch 2/10\n",
            "842/842 [==============================] - 17s 20ms/step - loss: 0.2373 - accuracy: 0.9042 - val_loss: 0.2797 - val_accuracy: 0.8892\n",
            "Epoch 3/10\n",
            "842/842 [==============================] - 17s 20ms/step - loss: 0.1933 - accuracy: 0.9220 - val_loss: 0.2763 - val_accuracy: 0.8967\n",
            "Epoch 4/10\n",
            "842/842 [==============================] - 17s 20ms/step - loss: 0.1622 - accuracy: 0.9343 - val_loss: 0.2736 - val_accuracy: 0.9019\n",
            "Epoch 5/10\n",
            "842/842 [==============================] - 17s 20ms/step - loss: 0.1374 - accuracy: 0.9423 - val_loss: 0.3062 - val_accuracy: 0.9014\n",
            "Epoch 6/10\n",
            "842/842 [==============================] - 17s 20ms/step - loss: 0.1199 - accuracy: 0.9477 - val_loss: 0.3148 - val_accuracy: 0.9027\n",
            "Epoch 7/10\n",
            "842/842 [==============================] - 18s 21ms/step - loss: 0.1070 - accuracy: 0.9515 - val_loss: 0.3700 - val_accuracy: 0.9012\n",
            "Epoch 8/10\n",
            "842/842 [==============================] - 17s 20ms/step - loss: 0.0972 - accuracy: 0.9545 - val_loss: 0.3957 - val_accuracy: 0.9011\n",
            "Epoch 9/10\n",
            "842/842 [==============================] - 17s 20ms/step - loss: 0.0914 - accuracy: 0.9565 - val_loss: 0.3967 - val_accuracy: 0.9045\n"
          ]
        },
        {
          "output_type": "display_data",
          "data": {
            "text/plain": [
              "<Figure size 720x432 with 2 Axes>"
            ],
            "image/png": "[encoded data removed]"
          },
          "metadata": {
            "needs_background": "light"
          }
        }
      ]
    },
    {
      "cell_type": "markdown",
      "source": [
        "Let's see how do this model performs in unknown data without remove stopwords."
      ],
      "metadata": {
        "id": "afiQFotIcvkB"
      }
    },
    {
      "cell_type": "code",
      "source": [
        "x_valid_seq = tokenizer.texts_to_sequences(small_dataset.text.to_numpy())\n",
        "x_valid_pad = tf.keras.preprocessing.sequence.pad_sequences(x_valid_seq, maxlen=x_train_pad.shape[1])\n",
        "x_valid_pad.shape\n",
        "\n",
        "model.evaluate(x= x_valid_pad, y=small_dataset.sentiment.to_numpy())"
      ],
      "metadata": {
        "colab": {
          "base_uri": "https://localhost:8080/"
        },
        "id": "rF2JlN9XdoJs",
        "outputId": "0dfc8c6a-3341-45c4-cc1b-a8326127caeb"
      },
      "execution_count": 67,
      "outputs": [
        {
          "output_type": "stream",
          "name": "stdout",
          "text": [
            "63/63 [==============================] - 2s 9ms/step - loss: 1.2370 - accuracy: 0.6767\n"
          ]
        },
        {
          "output_type": "execute_result",
          "data": {
            "text/plain": [
              "[1.2370197772979736, 0.676706850528717]"
            ]
          },
          "metadata": {},
          "execution_count": 67
        }
      ]
    },
    {
      "cell_type": "markdown",
      "source": [
        "Ok it's expected to perform worse because of lots of UNK words that are now in the sencenteces. \n",
        "Now, let's try to remove stopwords first. "
      ],
      "metadata": {
        "id": "h1A3speddpDC"
      }
    },
    {
      "cell_type": "code",
      "source": [
        "small_dataset_nostopwords = small_dataset.text.map(remove_stopwords)\n",
        "\n",
        "x_valid_seq = tokenizer.texts_to_sequences(small_dataset_nostopwords.to_numpy())\n",
        "x_valid_pad = tf.keras.preprocessing.sequence.pad_sequences(x_valid_seq, maxlen=x_train_pad.shape[1])\n",
        "x_valid_pad.shape\n",
        "\n",
        "model.evaluate(x= x_valid_pad, y=small_dataset.sentiment.to_numpy())"
      ],
      "metadata": {
        "colab": {
          "base_uri": "https://localhost:8080/"
        },
        "id": "bz4XwC5Ud4vn",
        "outputId": "a3037db3-62e3-4ea1-987a-8812aa57b129"
      },
      "execution_count": 76,
      "outputs": [
        {
          "output_type": "stream",
          "name": "stdout",
          "text": [
            "63/63 [==============================] - 0s 7ms/step - loss: 1.3330 - accuracy: 0.6762\n"
          ]
        },
        {
          "output_type": "execute_result",
          "data": {
            "text/plain": [
              "[1.3329819440841675, 0.6762048006057739]"
            ]
          },
          "metadata": {},
          "execution_count": 76
        }
      ]
    },
    {
      "cell_type": "code",
      "source": [
        "small_dataset_nostopwords"
      ],
      "metadata": {
        "colab": {
          "base_uri": "https://localhost:8080/"
        },
        "id": "p4qB7gv0eIp4",
        "outputId": "87880807-76de-4151-bc4b-7b58a762b4dd"
      },
      "execution_count": 78,
      "outputs": [
        {
          "output_type": "execute_result",
          "data": {
            "text/plain": [
              "0                                         plug converter.\n",
              "1                                        excellent value.\n",
              "2                                                jawbone.\n",
              "3       tied charger conversations lasting 45 minutes....\n",
              "4                                              mic great.\n",
              "                              ...                        \n",
              "1987                         food flavor texture lacking.\n",
              "1988                             appetite instantly gone.\n",
              "1989                                      impressed back.\n",
              "1990           experience underwhelming ninja sushi time.\n",
              "1991    wasted life poured salt wound drawing time bri...\n",
              "Name: text, Length: 1992, dtype: object"
            ]
          },
          "metadata": {},
          "execution_count": 78
        }
      ]
    },
    {
      "cell_type": "markdown",
      "source": [
        "So why when using stopwords we got an better performance than without it ? \n",
        "\n",
        "Acually, the problem is in our stopwords set. If you look it, you will see words that may be useful for sentiment detection. \n",
        "Words like \"problem\", and words that indicated intensity like \"most\", \"least\"\n",
        "\n",
        "So we need to take care when removing stopwords. \n",
        "\n",
        "### Last model\n",
        "\n",
        "Our last model will be the LSTM model trained in the bigger dataset without removing the stopwords."
      ],
      "metadata": {
        "id": "t3EyMxa0eM7W"
      }
    },
    {
      "cell_type": "code",
      "source": [
        "tokenizer = tf.keras.preprocessing.text.Tokenizer(oov_token=\"<UNK>\")\n",
        "tokenizer.fit_on_texts(x_train)\n",
        "len(tokenizer.index_word)\n",
        "\n",
        "x_train_seq = tokenizer.texts_to_sequences(x_train)\n",
        "x_train_pad = tf.keras.preprocessing.sequence.pad_sequences(x_train_seq)\n",
        "x_train_pad.shape\n",
        "\n",
        "x_valid_seq = tokenizer.texts_to_sequences(x_valid)\n",
        "x_valid_pad = tf.keras.preprocessing.sequence.pad_sequences(x_valid_seq, maxlen=x_train_pad.shape[1])\n",
        "x_valid_pad.shape\n",
        "\n",
        "model = tf.keras.models.Sequential([\n",
        "        tf.keras.layers.Embedding(len(tokenizer.word_index)+1,64,input_length=x_train_pad.shape[1]),\n",
        "        tf.keras.layers.Bidirectional(tf.keras.layers.LSTM(64)),\n",
        "        tf.keras.layers.Dense(1, activation=\"sigmoid\")\n",
        "])\n",
        "\n",
        "model.compile(optimizer=\"adam\", loss=\"binary_crossentropy\", metrics=[\"accuracy\"])\n",
        "stop = tf.keras.callbacks.EarlyStopping(patience = 5)\n",
        "best = tf.keras.callbacks.ModelCheckpoint(\"best.h5\", save_only_best=True)\n",
        "batch_size=64\n",
        "log = model.fit(x=x_train_pad, y=y_train,validation_data=(x_valid_pad, y_valid), epochs=10, callbacks=[stop, best], batch_size=batch_size, steps_per_epoch=math.ceil(x_train_pad.shape[0]/batch_size), validation_steps=math.ceil(x_valid_pad.shape[0]/batch_size))\n",
        "plot_training()"
      ],
      "metadata": {
        "colab": {
          "base_uri": "https://localhost:8080/",
          "height": 637
        },
        "id": "zy-YHfUejpzx",
        "outputId": "2999f67c-55b6-4934-c53a-c4eb0a9166d9"
      },
      "execution_count": 79,
      "outputs": [
        {
          "output_type": "stream",
          "name": "stdout",
          "text": [
            "Epoch 1/10\n",
            "842/842 [==============================] - 29s 30ms/step - loss: 0.3835 - accuracy: 0.8237 - val_loss: 0.2680 - val_accuracy: 0.8929\n",
            "Epoch 2/10\n",
            "842/842 [==============================] - 24s 29ms/step - loss: 0.1995 - accuracy: 0.9240 - val_loss: 0.2432 - val_accuracy: 0.9072\n",
            "Epoch 3/10\n",
            "842/842 [==============================] - 24s 29ms/step - loss: 0.1435 - accuracy: 0.9475 - val_loss: 0.2470 - val_accuracy: 0.9139\n",
            "Epoch 4/10\n",
            "842/842 [==============================] - 24s 29ms/step - loss: 0.1095 - accuracy: 0.9597 - val_loss: 0.2453 - val_accuracy: 0.9203\n",
            "Epoch 5/10\n",
            "842/842 [==============================] - 24s 29ms/step - loss: 0.0866 - accuracy: 0.9674 - val_loss: 0.2825 - val_accuracy: 0.9216\n",
            "Epoch 6/10\n",
            "842/842 [==============================] - 24s 29ms/step - loss: 0.0684 - accuracy: 0.9726 - val_loss: 0.2993 - val_accuracy: 0.9234\n",
            "Epoch 7/10\n",
            "842/842 [==============================] - 25s 29ms/step - loss: 0.0581 - accuracy: 0.9763 - val_loss: 0.3282 - val_accuracy: 0.9229\n"
          ]
        },
        {
          "output_type": "display_data",
          "data": {
            "text/plain": [
              "<Figure size 720x432 with 2 Axes>"
            ],
            "image/png": "[encoded data removed]"
          },
          "metadata": {
            "needs_background": "light"
          }
        }
      ]
    },
    {
      "cell_type": "code",
      "source": [
        "x_valid_seq = tokenizer.texts_to_sequences(small_dataset.text.to_numpy())\n",
        "x_valid_pad = tf.keras.preprocessing.sequence.pad_sequences(x_valid_seq, maxlen=x_train_pad.shape[1])\n",
        "x_valid_pad.shape\n",
        "\n",
        "model.evaluate(x= x_valid_pad, y=small_dataset.sentiment.to_numpy())"
      ],
      "metadata": {
        "colab": {
          "base_uri": "https://localhost:8080/"
        },
        "id": "WkAdlBrIkJhT",
        "outputId": "ce0f46da-95f6-40f7-d03b-23308a200398"
      },
      "execution_count": 80,
      "outputs": [
        {
          "output_type": "stream",
          "name": "stdout",
          "text": [
            "63/63 [==============================] - 2s 12ms/step - loss: 0.7220 - accuracy: 0.7947\n"
          ]
        },
        {
          "output_type": "execute_result",
          "data": {
            "text/plain": [
              "[0.721989631652832, 0.7946786880493164]"
            ]
          },
          "metadata": {},
          "execution_count": 80
        }
      ]
    },
    {
      "cell_type": "code",
      "source": [
        "!pip install tensorflowjs\n",
        "!tensorflowjs_converter --input_format keras best.h5 ./predictor/\n",
        "#from google.colab import files\n",
        "#files.download(\"predictor/group1-shard1of1.bin\")\n",
        "#files.download(\"predictor/model.json\")"
      ],
      "metadata": {
        "colab": {
          "base_uri": "https://localhost:8080/",
          "height": 1000
        },
        "id": "0ikz1NpVk-iB",
        "outputId": "840f5e37-a22e-401b-e302-880d76bf0cee"
      },
      "execution_count": 85,
      "outputs": [
        {
          "output_type": "stream",
          "name": "stdout",
          "text": [
            "Collecting tensorflowjs\n",
            "  Downloading tensorflowjs-3.15.0-py3-none-any.whl (77 kB)\n",
            "\u001b[?25l\r\u001b[K     |████▎                           | 10 kB 23.5 MB/s eta 0:00:01\r\u001b[K     |████████▌                       | 20 kB 21.6 MB/s eta 0:00:01\r\u001b[K     |████████████▊                   | 30 kB 10.5 MB/s eta 0:00:01\r\u001b[K     |█████████████████               | 40 kB 4.6 MB/s eta 0:00:01\r\u001b[K     |█████████████████████▏          | 51 kB 4.4 MB/s eta 0:00:01\r\u001b[K     |█████████████████████████▍      | 61 kB 5.2 MB/s eta 0:00:01\r\u001b[K     |█████████████████████████████▋  | 71 kB 5.7 MB/s eta 0:00:01\r\u001b[K     |████████████████████████████████| 77 kB 3.4 MB/s \n",
            "\u001b[?25hRequirement already satisfied: six<2,>=1.12.0 in /usr/local/lib/python3.7/dist-packages (from tensorflowjs) (1.15.0)\n",
            "Requirement already satisfied: tensorflow<3,>=2.1.0 in /usr/local/lib/python3.7/dist-packages (from tensorflowjs) (2.8.0)\n",
            "Requirement already satisfied: tensorflow-hub<0.13,>=0.7.0 in /usr/local/lib/python3.7/dist-packages (from tensorflowjs) (0.12.0)\n",
            "Requirement already satisfied: absl-py>=0.4.0 in /usr/local/lib/python3.7/dist-packages (from tensorflow<3,>=2.1.0->tensorflowjs) (1.0.0)\n",
            "Requirement already satisfied: tensorboard<2.9,>=2.8 in /usr/local/lib/python3.7/dist-packages (from tensorflow<3,>=2.1.0->tensorflowjs) (2.8.0)\n",
            "Requirement already satisfied: tensorflow-io-gcs-filesystem>=0.23.1 in /usr/local/lib/python3.7/dist-packages (from tensorflow<3,>=2.1.0->tensorflowjs) (0.25.0)\n",
            "Requirement already satisfied: h5py>=2.9.0 in /usr/local/lib/python3.7/dist-packages (from tensorflow<3,>=2.1.0->tensorflowjs) (3.1.0)\n",
            "Requirement already satisfied: protobuf>=3.9.2 in /usr/local/lib/python3.7/dist-packages (from tensorflow<3,>=2.1.0->tensorflowjs) (3.17.3)\n",
            "Requirement already satisfied: google-pasta>=0.1.1 in /usr/local/lib/python3.7/dist-packages (from tensorflow<3,>=2.1.0->tensorflowjs) (0.2.0)\n",
            "Requirement already satisfied: keras<2.9,>=2.8.0rc0 in /usr/local/lib/python3.7/dist-packages (from tensorflow<3,>=2.1.0->tensorflowjs) (2.8.0)\n",
            "Requirement already satisfied: gast>=0.2.1 in /usr/local/lib/python3.7/dist-packages (from tensorflow<3,>=2.1.0->tensorflowjs) (0.5.3)\n",
            "Requirement already satisfied: typing-extensions>=3.6.6 in /usr/local/lib/python3.7/dist-packages (from tensorflow<3,>=2.1.0->tensorflowjs) (4.2.0)\n",
            "Requirement already satisfied: wrapt>=1.11.0 in /usr/local/lib/python3.7/dist-packages (from tensorflow<3,>=2.1.0->tensorflowjs) (1.14.0)\n",
            "Requirement already satisfied: flatbuffers>=1.12 in /usr/local/lib/python3.7/dist-packages (from tensorflow<3,>=2.1.0->tensorflowjs) (2.0)\n",
            "Collecting tf-estimator-nightly==2.8.0.dev2021122109\n",
            "  Downloading tf_estimator_nightly-2.8.0.dev2021122109-py2.py3-none-any.whl (462 kB)\n",
            "\u001b[K     |████████████████████████████████| 462 kB 11.2 MB/s \n",
            "\u001b[?25hRequirement already satisfied: astunparse>=1.6.0 in /usr/local/lib/python3.7/dist-packages (from tensorflow<3,>=2.1.0->tensorflowjs) (1.6.3)\n",
            "Requirement already satisfied: setuptools in /usr/local/lib/python3.7/dist-packages (from tensorflow<3,>=2.1.0->tensorflowjs) (57.4.0)\n",
            "Requirement already satisfied: grpcio<2.0,>=1.24.3 in /usr/local/lib/python3.7/dist-packages (from tensorflow<3,>=2.1.0->tensorflowjs) (1.44.0)\n",
            "Requirement already satisfied: libclang>=9.0.1 in /usr/local/lib/python3.7/dist-packages (from tensorflow<3,>=2.1.0->tensorflowjs) (14.0.1)\n",
            "Requirement already satisfied: termcolor>=1.1.0 in /usr/local/lib/python3.7/dist-packages (from tensorflow<3,>=2.1.0->tensorflowjs) (1.1.0)\n",
            "Requirement already satisfied: numpy>=1.20 in /usr/local/lib/python3.7/dist-packages (from tensorflow<3,>=2.1.0->tensorflowjs) (1.21.6)\n",
            "Requirement already satisfied: keras-preprocessing>=1.1.1 in /usr/local/lib/python3.7/dist-packages (from tensorflow<3,>=2.1.0->tensorflowjs) (1.1.2)\n",
            "Requirement already satisfied: opt-einsum>=2.3.2 in /usr/local/lib/python3.7/dist-packages (from tensorflow<3,>=2.1.0->tensorflowjs) (3.3.0)\n",
            "Requirement already satisfied: wheel<1.0,>=0.23.0 in /usr/local/lib/python3.7/dist-packages (from astunparse>=1.6.0->tensorflow<3,>=2.1.0->tensorflowjs) (0.37.1)\n",
            "Requirement already satisfied: cached-property in /usr/local/lib/python3.7/dist-packages (from h5py>=2.9.0->tensorflow<3,>=2.1.0->tensorflowjs) (1.5.2)\n",
            "Requirement already satisfied: google-auth<3,>=1.6.3 in /usr/local/lib/python3.7/dist-packages (from tensorboard<2.9,>=2.8->tensorflow<3,>=2.1.0->tensorflowjs) (1.35.0)\n",
            "Requirement already satisfied: werkzeug>=0.11.15 in /usr/local/lib/python3.7/dist-packages (from tensorboard<2.9,>=2.8->tensorflow<3,>=2.1.0->tensorflowjs) (1.0.1)\n",
            "Requirement already satisfied: tensorboard-data-server<0.7.0,>=0.6.0 in /usr/local/lib/python3.7/dist-packages (from tensorboard<2.9,>=2.8->tensorflow<3,>=2.1.0->tensorflowjs) (0.6.1)\n",
            "Requirement already satisfied: google-auth-oauthlib<0.5,>=0.4.1 in /usr/local/lib/python3.7/dist-packages (from tensorboard<2.9,>=2.8->tensorflow<3,>=2.1.0->tensorflowjs) (0.4.6)\n",
            "Requirement already satisfied: markdown>=2.6.8 in /usr/local/lib/python3.7/dist-packages (from tensorboard<2.9,>=2.8->tensorflow<3,>=2.1.0->tensorflowjs) (3.3.6)\n",
            "Requirement already satisfied: requests<3,>=2.21.0 in /usr/local/lib/python3.7/dist-packages (from tensorboard<2.9,>=2.8->tensorflow<3,>=2.1.0->tensorflowjs) (2.23.0)\n",
            "Requirement already satisfied: tensorboard-plugin-wit>=1.6.0 in /usr/local/lib/python3.7/dist-packages (from tensorboard<2.9,>=2.8->tensorflow<3,>=2.1.0->tensorflowjs) (1.8.1)\n",
            "Requirement already satisfied: rsa<5,>=3.1.4 in /usr/local/lib/python3.7/dist-packages (from google-auth<3,>=1.6.3->tensorboard<2.9,>=2.8->tensorflow<3,>=2.1.0->tensorflowjs) (4.8)\n",
            "Requirement already satisfied: pyasn1-modules>=0.2.1 in /usr/local/lib/python3.7/dist-packages (from google-auth<3,>=1.6.3->tensorboard<2.9,>=2.8->tensorflow<3,>=2.1.0->tensorflowjs) (0.2.8)\n",
            "Requirement already satisfied: cachetools<5.0,>=2.0.0 in /usr/local/lib/python3.7/dist-packages (from google-auth<3,>=1.6.3->tensorboard<2.9,>=2.8->tensorflow<3,>=2.1.0->tensorflowjs) (4.2.4)\n",
            "Requirement already satisfied: requests-oauthlib>=0.7.0 in /usr/local/lib/python3.7/dist-packages (from google-auth-oauthlib<0.5,>=0.4.1->tensorboard<2.9,>=2.8->tensorflow<3,>=2.1.0->tensorflowjs) (1.3.1)\n",
            "Requirement already satisfied: importlib-metadata>=4.4 in /usr/local/lib/python3.7/dist-packages (from markdown>=2.6.8->tensorboard<2.9,>=2.8->tensorflow<3,>=2.1.0->tensorflowjs) (4.11.3)\n",
            "Requirement already satisfied: zipp>=0.5 in /usr/local/lib/python3.7/dist-packages (from importlib-metadata>=4.4->markdown>=2.6.8->tensorboard<2.9,>=2.8->tensorflow<3,>=2.1.0->tensorflowjs) (3.8.0)\n",
            "Requirement already satisfied: pyasn1<0.5.0,>=0.4.6 in /usr/local/lib/python3.7/dist-packages (from pyasn1-modules>=0.2.1->google-auth<3,>=1.6.3->tensorboard<2.9,>=2.8->tensorflow<3,>=2.1.0->tensorflowjs) (0.4.8)\n",
            "Requirement already satisfied: urllib3!=1.25.0,!=1.25.1,<1.26,>=1.21.1 in /usr/local/lib/python3.7/dist-packages (from requests<3,>=2.21.0->tensorboard<2.9,>=2.8->tensorflow<3,>=2.1.0->tensorflowjs) (1.24.3)\n",
            "Requirement already satisfied: certifi>=2017.4.17 in /usr/local/lib/python3.7/dist-packages (from requests<3,>=2.21.0->tensorboard<2.9,>=2.8->tensorflow<3,>=2.1.0->tensorflowjs) (2021.10.8)\n",
            "Requirement already satisfied: idna<3,>=2.5 in /usr/local/lib/python3.7/dist-packages (from requests<3,>=2.21.0->tensorboard<2.9,>=2.8->tensorflow<3,>=2.1.0->tensorflowjs) (2.10)\n",
            "Requirement already satisfied: chardet<4,>=3.0.2 in /usr/local/lib/python3.7/dist-packages (from requests<3,>=2.21.0->tensorboard<2.9,>=2.8->tensorflow<3,>=2.1.0->tensorflowjs) (3.0.4)\n",
            "Requirement already satisfied: oauthlib>=3.0.0 in /usr/local/lib/python3.7/dist-packages (from requests-oauthlib>=0.7.0->google-auth-oauthlib<0.5,>=0.4.1->tensorboard<2.9,>=2.8->tensorflow<3,>=2.1.0->tensorflowjs) (3.2.0)\n",
            "Installing collected packages: tf-estimator-nightly, tensorflowjs\n",
            "Successfully installed tensorflowjs-3.15.0 tf-estimator-nightly-2.8.0.dev2021122109\n"
          ]
        },
        {
          "output_type": "display_data",
          "data": {
            "application/vnd.colab-display-data+json": {
              "pip_warning": {
                "packages": [
                  "tensorflow_estimator"
                ]
              }
            }
          },
          "metadata": {}
        }
      ]
    },
    {
      "cell_type": "code",
      "source": [
        "import io\n",
        "import json \n",
        "tokenizer_json = tokenizer.to_json()\n",
        "with io.open('tokenizer.json', 'w', encoding='utf-8') as f:\n",
        "    f.write(json.dumps(json.loads(tokenizer_json),ensure_ascii=False))"
      ],
      "metadata": {
        "id": "X2p5BAQQlH-U"
      },
      "execution_count": 84,
      "outputs": []
    },
    {
      "cell_type": "code",
      "source": [
        ""
      ],
      "metadata": {
        "id": "8XtbfHCBlow4"
      },
      "execution_count": null,
      "outputs": []
    }
  ]
}